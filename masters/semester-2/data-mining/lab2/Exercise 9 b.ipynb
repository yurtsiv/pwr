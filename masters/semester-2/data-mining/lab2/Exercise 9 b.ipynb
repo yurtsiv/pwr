{
 "cells": [
  {
   "cell_type": "code",
   "execution_count": 65,
   "id": "9781f26f",
   "metadata": {},
   "outputs": [],
   "source": [
    "import numpy as np\n",
    "import matplotlib.pyplot as plt\n",
    "import statsmodels.api as sm\n",
    "import statsmodels.formula.api as smf\n",
    "import pandas as pd"
   ]
  },
  {
   "cell_type": "code",
   "execution_count": 89,
   "id": "ac2ab2b3",
   "metadata": {},
   "outputs": [],
   "source": [
    "x1 = np.sort(np.random.uniform(0, 1, (100)))\n",
    "x2 = 0.5 * x1 + np.random.normal(0, 1, (100)) / 10\n",
    "y = 2 + 2 * x1 + 0.3 * x2 + np.random.normal(0, 1, (100))\n",
    "data_frame = pd.DataFrame.from_dict({\"x1\": x1, \"x2\": x2, \"y\": y})"
   ]
  },
  {
   "cell_type": "markdown",
   "id": "97386384",
   "metadata": {},
   "source": [
    "**Write out the form of the linear model.\n",
    "What are the regression coefficients?**\n",
    "\n",
    "y = β0 + β1*x1 + β2*x2"
   ]
  },
  {
   "cell_type": "code",
   "execution_count": 90,
   "id": "cb6fc6e1",
   "metadata": {},
   "outputs": [
    {
     "data": {
      "text/plain": [
       "<matplotlib.collections.PathCollection at 0x28abef520>"
      ]
     },
     "execution_count": 90,
     "metadata": {},
     "output_type": "execute_result"
    },
    {
     "data": {
      "image/png": "[encoded data removed]",
      "text/plain": [
       "<Figure size 720x576 with 1 Axes>"
      ]
     },
     "metadata": {
      "needs_background": "light"
     },
     "output_type": "display_data"
    }
   ],
   "source": [
    "fig, ax = plt.subplots(figsize=(10,8))\n",
    "ax.scatter(x1, x2)"
   ]
  },
  {
   "cell_type": "code",
   "execution_count": 91,
   "id": "3af4acf9",
   "metadata": {},
   "outputs": [
    {
     "data": {
      "text/html": [
       "<div>\n",
       "<style scoped>\n",
       "    .dataframe tbody tr th:only-of-type {\n",
       "        vertical-align: middle;\n",
       "    }\n",
       "\n",
       "    .dataframe tbody tr th {\n",
       "        vertical-align: top;\n",
       "    }\n",
       "\n",
       "    .dataframe thead th {\n",
       "        text-align: right;\n",
       "    }\n",
       "</style>\n",
       "<table border=\"1\" class=\"dataframe\">\n",
       "  <thead>\n",
       "    <tr style=\"text-align: right;\">\n",
       "      <th></th>\n",
       "      <th>x1</th>\n",
       "      <th>x2</th>\n",
       "      <th>y</th>\n",
       "    </tr>\n",
       "  </thead>\n",
       "  <tbody>\n",
       "    <tr>\n",
       "      <th>x1</th>\n",
       "      <td>1.000000</td>\n",
       "      <td>0.793478</td>\n",
       "      <td>0.428502</td>\n",
       "    </tr>\n",
       "    <tr>\n",
       "      <th>x2</th>\n",
       "      <td>0.793478</td>\n",
       "      <td>1.000000</td>\n",
       "      <td>0.361170</td>\n",
       "    </tr>\n",
       "    <tr>\n",
       "      <th>y</th>\n",
       "      <td>0.428502</td>\n",
       "      <td>0.361170</td>\n",
       "      <td>1.000000</td>\n",
       "    </tr>\n",
       "  </tbody>\n",
       "</table>\n",
       "</div>"
      ],
      "text/plain": [
       "          x1        x2         y\n",
       "x1  1.000000  0.793478  0.428502\n",
       "x2  0.793478  1.000000  0.361170\n",
       "y   0.428502  0.361170  1.000000"
      ]
     },
     "execution_count": 91,
     "metadata": {},
     "output_type": "execute_result"
    }
   ],
   "source": [
    "data_frame.corr()"
   ]
  },
  {
   "cell_type": "markdown",
   "id": "94af46a2",
   "metadata": {},
   "source": [
    "**Fit a least squares regression to predict y using\n",
    "x1 and x2. Describe the results obtained. What are βˆ0, βˆ1, and\n",
    "βˆ2? How do these relate to the true β0, β1, and β2? Can you\n",
    "reject the null hypothesis H0 : β1 = 0? How about the null\n",
    "hypothesis H0 : β2 = 0?**"
   ]
  },
  {
   "cell_type": "code",
   "execution_count": 92,
   "id": "81a6e4cc",
   "metadata": {},
   "outputs": [],
   "source": [
    "fit_x12 = smf.ols(formula=\"y ~ x1 + x2\", data=data_frame).fit()"
   ]
  },
  {
   "cell_type": "code",
   "execution_count": 93,
   "id": "865d54a2",
   "metadata": {},
   "outputs": [
    {
     "name": "stdout",
     "output_type": "stream",
     "text": [
      "                            OLS Regression Results                            \n",
      "==============================================================================\n",
      "Dep. Variable:                      y   R-squared:                       0.185\n",
      "Model:                            OLS   Adj. R-squared:                  0.168\n",
      "Method:                 Least Squares   F-statistic:                     11.00\n",
      "Date:                Sat, 26 Nov 2022   Prob (F-statistic):           4.96e-05\n",
      "Time:                        18:49:02   Log-Likelihood:                -129.35\n",
      "No. Observations:                 100   AIC:                             264.7\n",
      "Df Residuals:                      97   BIC:                             272.5\n",
      "Df Model:                           2                                         \n",
      "Covariance Type:            nonrobust                                         \n",
      "==============================================================================\n",
      "                 coef    std err          t      P>|t|      [0.025      0.975]\n",
      "------------------------------------------------------------------------------\n",
      "Intercept      2.3270      0.173     13.413      0.000       1.983       2.671\n",
      "x1             1.3102      0.515      2.544      0.013       0.288       2.332\n",
      "x2             0.3045      0.803      0.379      0.705      -1.289       1.898\n",
      "==============================================================================\n",
      "Omnibus:                        1.802   Durbin-Watson:                   2.114\n",
      "Prob(Omnibus):                  0.406   Jarque-Bera (JB):                1.339\n",
      "Skew:                           0.016   Prob(JB):                        0.512\n",
      "Kurtosis:                       3.566   Cond. No.                         11.6\n",
      "==============================================================================\n",
      "\n",
      "Notes:\n",
      "[1] Standard Errors assume that the covariance matrix of the errors is correctly specified.\n"
     ]
    }
   ],
   "source": [
    "print(fit_x12.summary())"
   ]
  },
  {
   "cell_type": "code",
   "execution_count": 94,
   "id": "64e8b8af",
   "metadata": {},
   "outputs": [],
   "source": [
    "fit_x1 = smf.ols(formula=\"y ~ x1\", data=data_frame).fit()"
   ]
  },
  {
   "cell_type": "code",
   "execution_count": 95,
   "id": "c5d57201",
   "metadata": {},
   "outputs": [
    {
     "name": "stdout",
     "output_type": "stream",
     "text": [
      "                            OLS Regression Results                            \n",
      "==============================================================================\n",
      "Dep. Variable:                      y   R-squared:                       0.184\n",
      "Model:                            OLS   Adj. R-squared:                  0.175\n",
      "Method:                 Least Squares   F-statistic:                     22.04\n",
      "Date:                Sat, 26 Nov 2022   Prob (F-statistic):           8.68e-06\n",
      "Time:                        18:49:03   Log-Likelihood:                -129.43\n",
      "No. Observations:                 100   AIC:                             262.9\n",
      "Df Residuals:                      98   BIC:                             268.1\n",
      "Df Model:                           1                                         \n",
      "Covariance Type:            nonrobust                                         \n",
      "==============================================================================\n",
      "                 coef    std err          t      P>|t|      [0.025      0.975]\n",
      "------------------------------------------------------------------------------\n",
      "Intercept      2.3207      0.172     13.497      0.000       1.980       2.662\n",
      "x1             1.4652      0.312      4.695      0.000       0.846       2.085\n",
      "==============================================================================\n",
      "Omnibus:                        1.474   Durbin-Watson:                   2.115\n",
      "Prob(Omnibus):                  0.478   Jarque-Bera (JB):                0.971\n",
      "Skew:                           0.006   Prob(JB):                        0.615\n",
      "Kurtosis:                       3.483   Cond. No.                         4.33\n",
      "==============================================================================\n",
      "\n",
      "Notes:\n",
      "[1] Standard Errors assume that the covariance matrix of the errors is correctly specified.\n"
     ]
    }
   ],
   "source": [
    "print(fit_x1.summary())"
   ]
  },
  {
   "cell_type": "code",
   "execution_count": 96,
   "id": "2ebdf791",
   "metadata": {},
   "outputs": [],
   "source": [
    "fit_x2 = smf.ols(formula=\"y ~ x2\", data=data_frame).fit()"
   ]
  },
  {
   "cell_type": "code",
   "execution_count": 97,
   "id": "d59d42ca",
   "metadata": {},
   "outputs": [
    {
     "name": "stdout",
     "output_type": "stream",
     "text": [
      "                            OLS Regression Results                            \n",
      "==============================================================================\n",
      "Dep. Variable:                      y   R-squared:                       0.130\n",
      "Model:                            OLS   Adj. R-squared:                  0.122\n",
      "Method:                 Least Squares   F-statistic:                     14.70\n",
      "Date:                Sat, 26 Nov 2022   Prob (F-statistic):           0.000223\n",
      "Time:                        18:49:03   Log-Likelihood:                -132.58\n",
      "No. Observations:                 100   AIC:                             269.2\n",
      "Df Residuals:                      98   BIC:                             274.4\n",
      "Df Model:                           1                                         \n",
      "Covariance Type:            nonrobust                                         \n",
      "==============================================================================\n",
      "                 coef    std err          t      P>|t|      [0.025      0.975]\n",
      "------------------------------------------------------------------------------\n",
      "Intercept      2.5890      0.143     18.048      0.000       2.304       2.874\n",
      "x2             1.9250      0.502      3.834      0.000       0.929       2.921\n",
      "==============================================================================\n",
      "Omnibus:                        3.794   Durbin-Watson:                   2.049\n",
      "Prob(Omnibus):                  0.150   Jarque-Bera (JB):                4.439\n",
      "Skew:                           0.030   Prob(JB):                        0.109\n",
      "Kurtosis:                       4.030   Cond. No.                         5.73\n",
      "==============================================================================\n",
      "\n",
      "Notes:\n",
      "[1] Standard Errors assume that the covariance matrix of the errors is correctly specified.\n"
     ]
    }
   ],
   "source": [
    "print(fit_x2.summary())"
   ]
  },
  {
   "cell_type": "markdown",
   "id": "2ed0ee25",
   "metadata": {},
   "source": [
    "**Now suppose we obtain one additional observation, which was\n",
    "unfortunately mismeasured.**"
   ]
  },
  {
   "cell_type": "code",
   "execution_count": 98,
   "id": "e326858a",
   "metadata": {},
   "outputs": [],
   "source": [
    "x1_2 = np.append(x1, 0.1)\n",
    "x2_2 = np.append(x2, 0.8)\n",
    "y_2 = np.append(y, 6)\n",
    "data_frame_2 = pd.DataFrame.from_dict({\"x1\": x1_2, \"x2\": x2_2, \"y\": y_2})"
   ]
  },
  {
   "cell_type": "code",
   "execution_count": 99,
   "id": "57519f18",
   "metadata": {},
   "outputs": [
    {
     "data": {
      "text/plain": [
       "array([2.79987293, 2.94274288, 2.19187231, 1.94343164, 2.24096442,\n",
       "       1.8697216 , 2.72754264, 1.58950588, 2.01114645, 0.95526449,\n",
       "       2.74796583, 2.30538614, 2.83593729, 1.41333782, 2.88375626,\n",
       "       3.17172415, 3.93949096, 1.06630621, 3.30924031, 3.10319918,\n",
       "       2.43936664, 2.23631505, 3.24913511, 0.01498204, 3.94352645,\n",
       "       1.70376001, 2.28976525, 3.17209398, 2.95276235, 1.95694462,\n",
       "       4.10932375, 3.48347587, 4.42319035, 2.55466371, 3.67637379,\n",
       "       1.82328517, 3.6660268 , 2.27847903, 1.14990619, 3.70798142,\n",
       "       0.82140042, 1.20139701, 3.17972129, 2.94935206, 3.17102938,\n",
       "       5.35001295, 5.3662875 , 2.71818061, 2.28549791, 3.50657331,\n",
       "       2.51422133, 3.6475432 , 3.07197768, 2.16073926, 3.18407139,\n",
       "       2.66845889, 3.2786738 , 4.18809995, 3.98338721, 2.96495192,\n",
       "       3.69264248, 1.83351405, 2.37910488, 3.87370665, 2.4774476 ,\n",
       "       2.80412969, 3.53641088, 3.14681805, 4.06988564, 4.26404952,\n",
       "       2.80733434, 3.0978903 , 3.55639603, 3.28793648, 4.65065852,\n",
       "       4.10289897, 2.59019705, 2.72726019, 4.2635357 , 2.59741212,\n",
       "       4.40376599, 3.16994878, 3.46535049, 4.58631812, 2.46282303,\n",
       "       3.18152703, 3.63486679, 3.75353208, 2.26989504, 3.28413131,\n",
       "       3.28359342, 4.02671607, 3.33571039, 2.9232936 , 3.11632516,\n",
       "       3.1289034 , 3.90315705, 5.38399603, 4.04391378, 2.88411278,\n",
       "       6.        ])"
      ]
     },
     "execution_count": 99,
     "metadata": {},
     "output_type": "execute_result"
    }
   ],
   "source": [
    "y_2"
   ]
  },
  {
   "cell_type": "code",
   "execution_count": 100,
   "id": "7e9895d0",
   "metadata": {},
   "outputs": [
    {
     "data": {
      "text/plain": [
       "<matplotlib.collections.PathCollection at 0x28ac64fd0>"
      ]
     },
     "execution_count": 100,
     "metadata": {},
     "output_type": "execute_result"
    },
    {
     "data": {
      "image/png": "[encoded data removed]",
      "text/plain": [
       "<Figure size 720x576 with 1 Axes>"
      ]
     },
     "metadata": {
      "needs_background": "light"
     },
     "output_type": "display_data"
    }
   ],
   "source": [
    "fig, ax = plt.subplots(figsize=(10,8))\n",
    "ax.scatter(x1_2, x2_2)"
   ]
  },
  {
   "cell_type": "code",
   "execution_count": 101,
   "id": "0ed6dfa2",
   "metadata": {},
   "outputs": [],
   "source": [
    "fit_x12_2 = smf.ols(formula=\"y ~ x1 + x2\", data=data_frame_2).fit()"
   ]
  },
  {
   "cell_type": "code",
   "execution_count": 102,
   "id": "84c3323e",
   "metadata": {},
   "outputs": [
    {
     "name": "stdout",
     "output_type": "stream",
     "text": [
      "                            OLS Regression Results                            \n",
      "==============================================================================\n",
      "Dep. Variable:                      y   R-squared:                       0.185\n",
      "Model:                            OLS   Adj. R-squared:                  0.168\n",
      "Method:                 Least Squares   F-statistic:                     11.09\n",
      "Date:                Sat, 26 Nov 2022   Prob (F-statistic):           4.55e-05\n",
      "Time:                        18:49:07   Log-Likelihood:                -134.64\n",
      "No. Observations:                 101   AIC:                             275.3\n",
      "Df Residuals:                      98   BIC:                             283.1\n",
      "Df Model:                           2                                         \n",
      "Covariance Type:            nonrobust                                         \n",
      "==============================================================================\n",
      "                 coef    std err          t      P>|t|      [0.025      0.975]\n",
      "------------------------------------------------------------------------------\n",
      "Intercept      2.4239      0.177     13.671      0.000       2.072       2.776\n",
      "x1             0.5195      0.460      1.128      0.262      -0.394       1.433\n",
      "x2             1.6617      0.690      2.407      0.018       0.292       3.032\n",
      "==============================================================================\n",
      "Omnibus:                        3.276   Durbin-Watson:                   2.066\n",
      "Prob(Omnibus):                  0.194   Jarque-Bera (JB):                3.247\n",
      "Skew:                           0.133   Prob(JB):                        0.197\n",
      "Kurtosis:                       3.837   Cond. No.                         9.56\n",
      "==============================================================================\n",
      "\n",
      "Notes:\n",
      "[1] Standard Errors assume that the covariance matrix of the errors is correctly specified.\n"
     ]
    }
   ],
   "source": [
    "print(fit_x12_2.summary())"
   ]
  },
  {
   "cell_type": "code",
   "execution_count": 103,
   "id": "b0076b71",
   "metadata": {},
   "outputs": [],
   "source": [
    "fit_x1_2 = smf.ols(formula=\"y ~ x1\", data=data_frame_2).fit()"
   ]
  },
  {
   "cell_type": "code",
   "execution_count": 104,
   "id": "e02a9ab6",
   "metadata": {},
   "outputs": [
    {
     "name": "stdout",
     "output_type": "stream",
     "text": [
      "                            OLS Regression Results                            \n",
      "==============================================================================\n",
      "Dep. Variable:                      y   R-squared:                       0.136\n",
      "Model:                            OLS   Adj. R-squared:                  0.128\n",
      "Method:                 Least Squares   F-statistic:                     15.63\n",
      "Date:                Sat, 26 Nov 2022   Prob (F-statistic):           0.000145\n",
      "Time:                        18:49:08   Log-Likelihood:                -137.54\n",
      "No. Observations:                 101   AIC:                             279.1\n",
      "Df Residuals:                      99   BIC:                             284.3\n",
      "Df Model:                           1                                         \n",
      "Covariance Type:            nonrobust                                         \n",
      "==============================================================================\n",
      "                 coef    std err          t      P>|t|      [0.025      0.975]\n",
      "------------------------------------------------------------------------------\n",
      "Intercept      2.4288      0.182     13.379      0.000       2.069       2.789\n",
      "x1             1.3088      0.331      3.953      0.000       0.652       1.966\n",
      "==============================================================================\n",
      "Omnibus:                        8.129   Durbin-Watson:                   2.034\n",
      "Prob(Omnibus):                  0.017   Jarque-Bera (JB):               11.061\n",
      "Skew:                           0.370   Prob(JB):                      0.00396\n",
      "Kurtosis:                       4.442   Cond. No.                         4.30\n",
      "==============================================================================\n",
      "\n",
      "Notes:\n",
      "[1] Standard Errors assume that the covariance matrix of the errors is correctly specified.\n"
     ]
    }
   ],
   "source": [
    "print(fit_x1_2.summary())"
   ]
  },
  {
   "cell_type": "code",
   "execution_count": 105,
   "id": "ed2ee5a2",
   "metadata": {},
   "outputs": [],
   "source": [
    "fit_x2_2 = smf.ols(formula=\"y ~ x2\", data=data_frame_2).fit()"
   ]
  },
  {
   "cell_type": "code",
   "execution_count": 106,
   "id": "3b2c53ca",
   "metadata": {},
   "outputs": [
    {
     "name": "stdout",
     "output_type": "stream",
     "text": [
      "                            OLS Regression Results                            \n",
      "==============================================================================\n",
      "Dep. Variable:                      y   R-squared:                       0.174\n",
      "Model:                            OLS   Adj. R-squared:                  0.166\n",
      "Method:                 Least Squares   F-statistic:                     20.85\n",
      "Date:                Sat, 26 Nov 2022   Prob (F-statistic):           1.43e-05\n",
      "Time:                        18:49:09   Log-Likelihood:                -135.29\n",
      "No. Observations:                 101   AIC:                             274.6\n",
      "Df Residuals:                      99   BIC:                             279.8\n",
      "Df Model:                           1                                         \n",
      "Covariance Type:            nonrobust                                         \n",
      "==============================================================================\n",
      "                 coef    std err          t      P>|t|      [0.025      0.975]\n",
      "------------------------------------------------------------------------------\n",
      "Intercept      2.5420      0.143     17.739      0.000       2.258       2.826\n",
      "x2             2.2162      0.485      4.566      0.000       1.253       3.179\n",
      "==============================================================================\n",
      "Omnibus:                        3.490   Durbin-Watson:                   2.045\n",
      "Prob(Omnibus):                  0.175   Jarque-Bera (JB):                3.789\n",
      "Skew:                           0.076   Prob(JB):                        0.150\n",
      "Kurtosis:                       3.937   Cond. No.                         5.50\n",
      "==============================================================================\n",
      "\n",
      "Notes:\n",
      "[1] Standard Errors assume that the covariance matrix of the errors is correctly specified.\n"
     ]
    }
   ],
   "source": [
    "print(fit_x2_2.summary())"
   ]
  }
 ],
 "metadata": {
  "kernelspec": {
   "display_name": "Python 3 (ipykernel)",
   "language": "python",
   "name": "python3"
  },
  "language_info": {
   "codemirror_mode": {
    "name": "ipython",
    "version": 3
   },
   "file_extension": ".py",
   "mimetype": "text/x-python",
   "name": "python",
   "nbconvert_exporter": "python",
   "pygments_lexer": "ipython3",
   "version": "3.10.7"
  }
 },
 "nbformat": 4,
 "nbformat_minor": 5
}
