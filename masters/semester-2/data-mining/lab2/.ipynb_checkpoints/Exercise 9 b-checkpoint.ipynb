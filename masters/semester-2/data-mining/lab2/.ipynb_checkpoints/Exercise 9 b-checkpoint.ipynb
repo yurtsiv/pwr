{
 "cells": [
  {
   "cell_type": "code",
   "execution_count": 65,
   "id": "c29cb819",
   "metadata": {},
   "outputs": [],
   "source": [
    "import numpy as np\n",
    "import matplotlib.pyplot as plt\n",
    "import statsmodels.api as sm\n",
    "import statsmodels.formula.api as smf\n",
    "import pandas as pd"
   ]
  },
  {
   "cell_type": "code",
   "execution_count": 66,
   "id": "44fd0f20",
   "metadata": {},
   "outputs": [],
   "source": [
    "x1 = np.sort(np.random.uniform(0, 1, (100)))\n",
    "x2 = 0.5 * x1 + np.random.normal(0, 1, (100)) / 10\n",
    "y = 2 + 2 * x1 + 0.3 * x2 + np.random.normal(0, 1, (100))\n",
    "data_frame = pd.DataFrame.from_dict({\"x1\": x1, \"x2\": x2, \"y\": y})"
   ]
  },
  {
   "cell_type": "markdown",
   "id": "19ad56d9",
   "metadata": {},
   "source": [
    "**Write out the form of the linear model.\n",
    "What are the regression coefficients?**\n",
    "\n",
    "y = β0 + β1*x1 + β2*x2"
   ]
  },
  {
   "cell_type": "code",
   "execution_count": 67,
   "id": "829aa2fb",
   "metadata": {},
   "outputs": [
    {
     "data": {
      "text/plain": [
       "<matplotlib.collections.PathCollection at 0x28ab14e80>"
      ]
     },
     "execution_count": 67,
     "metadata": {},
     "output_type": "execute_result"
    },
    {
     "data": {
      "image/png": "[encoded data removed]",
      "text/plain": [
       "<Figure size 720x576 with 1 Axes>"
      ]
     },
     "metadata": {
      "needs_background": "light"
     },
     "output_type": "display_data"
    }
   ],
   "source": [
    "fig, ax = plt.subplots(figsize=(10,8))\n",
    "ax.scatter(x1, x2)"
   ]
  },
  {
   "cell_type": "code",
   "execution_count": 68,
   "id": "26baf1c3",
   "metadata": {},
   "outputs": [
    {
     "data": {
      "text/html": [
       "<div>\n",
       "<style scoped>\n",
       "    .dataframe tbody tr th:only-of-type {\n",
       "        vertical-align: middle;\n",
       "    }\n",
       "\n",
       "    .dataframe tbody tr th {\n",
       "        vertical-align: top;\n",
       "    }\n",
       "\n",
       "    .dataframe thead th {\n",
       "        text-align: right;\n",
       "    }\n",
       "</style>\n",
       "<table border=\"1\" class=\"dataframe\">\n",
       "  <thead>\n",
       "    <tr style=\"text-align: right;\">\n",
       "      <th></th>\n",
       "      <th>x1</th>\n",
       "      <th>x2</th>\n",
       "      <th>y</th>\n",
       "    </tr>\n",
       "  </thead>\n",
       "  <tbody>\n",
       "    <tr>\n",
       "      <th>x1</th>\n",
       "      <td>1.000000</td>\n",
       "      <td>0.848559</td>\n",
       "      <td>0.588970</td>\n",
       "    </tr>\n",
       "    <tr>\n",
       "      <th>x2</th>\n",
       "      <td>0.848559</td>\n",
       "      <td>1.000000</td>\n",
       "      <td>0.431779</td>\n",
       "    </tr>\n",
       "    <tr>\n",
       "      <th>y</th>\n",
       "      <td>0.588970</td>\n",
       "      <td>0.431779</td>\n",
       "      <td>1.000000</td>\n",
       "    </tr>\n",
       "  </tbody>\n",
       "</table>\n",
       "</div>"
      ],
      "text/plain": [
       "          x1        x2         y\n",
       "x1  1.000000  0.848559  0.588970\n",
       "x2  0.848559  1.000000  0.431779\n",
       "y   0.588970  0.431779  1.000000"
      ]
     },
     "execution_count": 68,
     "metadata": {},
     "output_type": "execute_result"
    }
   ],
   "source": [
    "data_frame.corr()"
   ]
  },
  {
   "cell_type": "markdown",
   "id": "9f958033",
   "metadata": {},
   "source": [
    "**Fit a least squares regression to predict y using\n",
    "x1 and x2. Describe the results obtained. What are βˆ0, βˆ1, and\n",
    "βˆ2? How do these relate to the true β0, β1, and β2? Can you\n",
    "reject the null hypothesis H0 : β1 = 0? How about the null\n",
    "hypothesis H0 : β2 = 0?**"
   ]
  },
  {
   "cell_type": "code",
   "execution_count": 69,
   "id": "184a279a",
   "metadata": {},
   "outputs": [],
   "source": [
    "fit_x12 = smf.ols(formula=\"y ~ x1 + x2\", data=data_frame).fit()"
   ]
  },
  {
   "cell_type": "code",
   "execution_count": 70,
   "id": "f9022c85",
   "metadata": {},
   "outputs": [
    {
     "name": "stdout",
     "output_type": "stream",
     "text": [
      "                            OLS Regression Results                            \n",
      "==============================================================================\n",
      "Dep. Variable:                      y   R-squared:                       0.363\n",
      "Model:                            OLS   Adj. R-squared:                  0.350\n",
      "Method:                 Least Squares   F-statistic:                     27.69\n",
      "Date:                Sat, 26 Nov 2022   Prob (F-statistic):           3.07e-10\n",
      "Time:                        17:54:55   Log-Likelihood:                -122.32\n",
      "No. Observations:                 100   AIC:                             250.6\n",
      "Df Residuals:                      97   BIC:                             258.4\n",
      "Df Model:                           2                                         \n",
      "Covariance Type:            nonrobust                                         \n",
      "==============================================================================\n",
      "                 coef    std err          t      P>|t|      [0.025      0.975]\n",
      "------------------------------------------------------------------------------\n",
      "Intercept      1.9072      0.180     10.601      0.000       1.550       2.264\n",
      "x1             2.9863      0.575      5.193      0.000       1.845       4.128\n",
      "x2            -1.4941      0.942     -1.586      0.116      -3.363       0.375\n",
      "==============================================================================\n",
      "Omnibus:                        0.363   Durbin-Watson:                   1.888\n",
      "Prob(Omnibus):                  0.834   Jarque-Bera (JB):                0.412\n",
      "Skew:                           0.139   Prob(JB):                        0.814\n",
      "Kurtosis:                       2.853   Cond. No.                         14.9\n",
      "==============================================================================\n",
      "\n",
      "Notes:\n",
      "[1] Standard Errors assume that the covariance matrix of the errors is correctly specified.\n"
     ]
    }
   ],
   "source": [
    "print(fit_x12.summary())"
   ]
  },
  {
   "cell_type": "code",
   "execution_count": 71,
   "id": "43270398",
   "metadata": {},
   "outputs": [],
   "source": [
    "fit_x1 = smf.ols(formula=\"y ~ x1\", data=data_frame).fit()"
   ]
  },
  {
   "cell_type": "code",
   "execution_count": 72,
   "id": "31449245",
   "metadata": {},
   "outputs": [
    {
     "name": "stdout",
     "output_type": "stream",
     "text": [
      "                            OLS Regression Results                            \n",
      "==============================================================================\n",
      "Dep. Variable:                      y   R-squared:                       0.347\n",
      "Model:                            OLS   Adj. R-squared:                  0.340\n",
      "Method:                 Least Squares   F-statistic:                     52.05\n",
      "Date:                Sat, 26 Nov 2022   Prob (F-statistic):           1.15e-10\n",
      "Time:                        17:54:55   Log-Likelihood:                -123.60\n",
      "No. Observations:                 100   AIC:                             251.2\n",
      "Df Residuals:                      98   BIC:                             256.4\n",
      "Df Model:                           1                                         \n",
      "Covariance Type:            nonrobust                                         \n",
      "==============================================================================\n",
      "                 coef    std err          t      P>|t|      [0.025      0.975]\n",
      "------------------------------------------------------------------------------\n",
      "Intercept      1.9487      0.179     10.865      0.000       1.593       2.305\n",
      "x1             2.2122      0.307      7.215      0.000       1.604       2.821\n",
      "==============================================================================\n",
      "Omnibus:                        0.272   Durbin-Watson:                   1.857\n",
      "Prob(Omnibus):                  0.873   Jarque-Bera (JB):                0.115\n",
      "Skew:                           0.082   Prob(JB):                        0.944\n",
      "Kurtosis:                       3.028   Cond. No.                         4.68\n",
      "==============================================================================\n",
      "\n",
      "Notes:\n",
      "[1] Standard Errors assume that the covariance matrix of the errors is correctly specified.\n"
     ]
    }
   ],
   "source": [
    "print(fit_x1.summary())"
   ]
  },
  {
   "cell_type": "code",
   "execution_count": 73,
   "id": "8e88ce77",
   "metadata": {},
   "outputs": [],
   "source": [
    "fit_x2 = smf.ols(formula=\"y ~ x2\", data=data_frame).fit()"
   ]
  },
  {
   "cell_type": "code",
   "execution_count": 74,
   "id": "38cbe7ec",
   "metadata": {},
   "outputs": [
    {
     "name": "stdout",
     "output_type": "stream",
     "text": [
      "                            OLS Regression Results                            \n",
      "==============================================================================\n",
      "Dep. Variable:                      y   R-squared:                       0.186\n",
      "Model:                            OLS   Adj. R-squared:                  0.178\n",
      "Method:                 Least Squares   F-statistic:                     22.46\n",
      "Date:                Sat, 26 Nov 2022   Prob (F-statistic):           7.28e-06\n",
      "Time:                        17:54:56   Log-Likelihood:                -134.58\n",
      "No. Observations:                 100   AIC:                             273.2\n",
      "Df Residuals:                      98   BIC:                             278.4\n",
      "Df Model:                           1                                         \n",
      "Covariance Type:            nonrobust                                         \n",
      "==============================================================================\n",
      "                 coef    std err          t      P>|t|      [0.025      0.975]\n",
      "------------------------------------------------------------------------------\n",
      "Intercept      2.4544      0.164     14.967      0.000       2.129       2.780\n",
      "x2             2.6561      0.560      4.739      0.000       1.544       3.768\n",
      "==============================================================================\n",
      "Omnibus:                        0.507   Durbin-Watson:                   1.705\n",
      "Prob(Omnibus):                  0.776   Jarque-Bera (JB):                0.657\n",
      "Skew:                          -0.127   Prob(JB):                        0.720\n",
      "Kurtosis:                       2.695   Cond. No.                         6.32\n",
      "==============================================================================\n",
      "\n",
      "Notes:\n",
      "[1] Standard Errors assume that the covariance matrix of the errors is correctly specified.\n"
     ]
    }
   ],
   "source": [
    "print(fit_x2.summary())"
   ]
  },
  {
   "cell_type": "markdown",
   "id": "00f268e0",
   "metadata": {},
   "source": [
    "**Now suppose we obtain one additional observation, which was\n",
    "unfortunately mismeasured.**"
   ]
  },
  {
   "cell_type": "code",
   "execution_count": 77,
   "id": "4399925f",
   "metadata": {},
   "outputs": [],
   "source": [
    "x1_2 = np.append(x1, 0.1)\n",
    "x2_2 = np.append(x2, 0.8)\n",
    "y_2 = np.append(y, 6)\n",
    "data_frame_2 = pd.DataFrame.from_dict({\"x1\": x1_2, \"x2\": x2_2, \"y\": y_2})"
   ]
  },
  {
   "cell_type": "code",
   "execution_count": 85,
   "id": "a845cb9d",
   "metadata": {},
   "outputs": [
    {
     "data": {
      "text/plain": [
       "<matplotlib.collections.PathCollection at 0x28aba93d0>"
      ]
     },
     "execution_count": 85,
     "metadata": {},
     "output_type": "execute_result"
    },
    {
     "data": {
      "image/png": "[encoded data removed]",
      "text/plain": [
       "<Figure size 720x576 with 1 Axes>"
      ]
     },
     "metadata": {
      "needs_background": "light"
     },
     "output_type": "display_data"
    }
   ],
   "source": [
    "fig, ax = plt.subplots(figsize=(10,8))\n",
    "ax.scatter(x1_2, x2_2)"
   ]
  },
  {
   "cell_type": "code",
   "execution_count": 78,
   "id": "858ac312",
   "metadata": {},
   "outputs": [],
   "source": [
    "fit_x12_2 = smf.ols(formula=\"y ~ x1 + x2\", data=data_frame_2).fit()"
   ]
  },
  {
   "cell_type": "code",
   "execution_count": 81,
   "id": "d2eb1891",
   "metadata": {},
   "outputs": [
    {
     "name": "stdout",
     "output_type": "stream",
     "text": [
      "                            OLS Regression Results                            \n",
      "==============================================================================\n",
      "Dep. Variable:                      y   R-squared:                       0.289\n",
      "Model:                            OLS   Adj. R-squared:                  0.275\n",
      "Method:                 Least Squares   F-statistic:                     19.93\n",
      "Date:                Sat, 26 Nov 2022   Prob (F-statistic):           5.45e-08\n",
      "Time:                        17:58:58   Log-Likelihood:                -132.44\n",
      "No. Observations:                 101   AIC:                             270.9\n",
      "Df Residuals:                      98   BIC:                             278.7\n",
      "Df Model:                           2                                         \n",
      "Covariance Type:            nonrobust                                         \n",
      "==============================================================================\n",
      "                 coef    std err          t      P>|t|      [0.025      0.975]\n",
      "------------------------------------------------------------------------------\n",
      "Intercept      2.0903      0.191     10.930      0.000       1.711       2.470\n",
      "x1             1.4139      0.496      2.852      0.005       0.430       2.398\n",
      "x2             1.2446      0.779      1.597      0.113      -0.302       2.791\n",
      "==============================================================================\n",
      "Omnibus:                        2.093   Durbin-Watson:                   1.780\n",
      "Prob(Omnibus):                  0.351   Jarque-Bera (JB):                1.509\n",
      "Skew:                           0.204   Prob(JB):                        0.470\n",
      "Kurtosis:                       3.439   Cond. No.                         11.2\n",
      "==============================================================================\n",
      "\n",
      "Notes:\n",
      "[1] Standard Errors assume that the covariance matrix of the errors is correctly specified.\n"
     ]
    }
   ],
   "source": [
    "print(fit_x12_2.summary())"
   ]
  },
  {
   "cell_type": "code",
   "execution_count": 82,
   "id": "5a96d784",
   "metadata": {},
   "outputs": [],
   "source": [
    "fit_x1_2 = smf.ols(formula=\"y ~ x1\", data=data_frame_2).fit()"
   ]
  },
  {
   "cell_type": "code",
   "execution_count": 83,
   "id": "cbb6ab47",
   "metadata": {},
   "outputs": [
    {
     "name": "stdout",
     "output_type": "stream",
     "text": [
      "                            OLS Regression Results                            \n",
      "==============================================================================\n",
      "Dep. Variable:                      y   R-squared:                       0.271\n",
      "Model:                            OLS   Adj. R-squared:                  0.263\n",
      "Method:                 Least Squares   F-statistic:                     36.74\n",
      "Date:                Sat, 26 Nov 2022   Prob (F-statistic):           2.46e-08\n",
      "Time:                        17:59:47   Log-Likelihood:                -133.74\n",
      "No. Observations:                 101   AIC:                             271.5\n",
      "Df Residuals:                      99   BIC:                             276.7\n",
      "Df Model:                           1                                         \n",
      "Covariance Type:            nonrobust                                         \n",
      "==============================================================================\n",
      "                 coef    std err          t      P>|t|      [0.025      0.975]\n",
      "------------------------------------------------------------------------------\n",
      "Intercept      2.0918      0.193     10.853      0.000       1.709       2.474\n",
      "x1             2.0069      0.331      6.062      0.000       1.350       2.664\n",
      "==============================================================================\n",
      "Omnibus:                       13.306   Durbin-Watson:                   1.729\n",
      "Prob(Omnibus):                  0.001   Jarque-Bera (JB):               19.330\n",
      "Skew:                           0.611   Prob(JB):                     6.35e-05\n",
      "Kurtosis:                       4.761   Cond. No.                         4.63\n",
      "==============================================================================\n",
      "\n",
      "Notes:\n",
      "[1] Standard Errors assume that the covariance matrix of the errors is correctly specified.\n"
     ]
    }
   ],
   "source": [
    "print(fit_x1_2.summary())"
   ]
  },
  {
   "cell_type": "code",
   "execution_count": 86,
   "id": "330ff3ab",
   "metadata": {},
   "outputs": [],
   "source": [
    "fit_x2_2 = smf.ols(formula=\"y ~ x2\", data=data_frame_2).fit()"
   ]
  },
  {
   "cell_type": "code",
   "execution_count": 87,
   "id": "1dbc3d94",
   "metadata": {},
   "outputs": [
    {
     "name": "stdout",
     "output_type": "stream",
     "text": [
      "                            OLS Regression Results                            \n",
      "==============================================================================\n",
      "Dep. Variable:                      y   R-squared:                       0.230\n",
      "Model:                            OLS   Adj. R-squared:                  0.222\n",
      "Method:                 Least Squares   F-statistic:                     29.61\n",
      "Date:                Sat, 26 Nov 2022   Prob (F-statistic):           3.84e-07\n",
      "Time:                        18:01:04   Log-Likelihood:                -136.46\n",
      "No. Observations:                 101   AIC:                             276.9\n",
      "Df Residuals:                      99   BIC:                             282.2\n",
      "Df Model:                           1                                         \n",
      "Covariance Type:            nonrobust                                         \n",
      "==============================================================================\n",
      "                 coef    std err          t      P>|t|      [0.025      0.975]\n",
      "------------------------------------------------------------------------------\n",
      "Intercept      2.4064      0.161     14.914      0.000       2.086       2.727\n",
      "x2             2.9088      0.535      5.441      0.000       1.848       3.970\n",
      "==============================================================================\n",
      "Omnibus:                        0.455   Durbin-Watson:                   1.731\n",
      "Prob(Omnibus):                  0.796   Jarque-Bera (JB):                0.572\n",
      "Skew:                          -0.146   Prob(JB):                        0.751\n",
      "Kurtosis:                       2.774   Cond. No.                         6.05\n",
      "==============================================================================\n",
      "\n",
      "Notes:\n",
      "[1] Standard Errors assume that the covariance matrix of the errors is correctly specified.\n"
     ]
    }
   ],
   "source": [
    "print(fit_x2_2.summary())"
   ]
  }
 ],
 "metadata": {
  "kernelspec": {
   "display_name": "Python 3 (ipykernel)",
   "language": "python",
   "name": "python3"
  },
  "language_info": {
   "codemirror_mode": {
    "name": "ipython",
    "version": 3
   },
   "file_extension": ".py",
   "mimetype": "text/x-python",
   "name": "python",
   "nbconvert_exporter": "python",
   "pygments_lexer": "ipython3",
   "version": "3.9.15"
  }
 },
 "nbformat": 4,
 "nbformat_minor": 5
}
