{
 "cells": [
  {
   "cell_type": "code",
   "execution_count": 8,
   "id": "429ad76b",
   "metadata": {},
   "outputs": [],
   "source": [
    "import matplotlib.pyplot as plt\n",
    "import numpy as np\n",
    "import random\n",
    "import math"
   ]
  },
  {
   "cell_type": "code",
   "execution_count": 9,
   "id": "1c949d41",
   "metadata": {},
   "outputs": [],
   "source": [
    "plt.rcParams[\"figure.figsize\"] = (5, 5)\n",
    "\n",
    "def draw_points(points, closest):\n",
    "    plt.scatter(list(map(lambda x: x[0], points)), list(map(lambda x: x[1], points)), color='c', s=[6] * len(points))\n",
    "    plt.scatter(list(map(lambda x: x[0], closest)), list(map(lambda x: x[1], closest)), color='r', s=[6] * len(closest))\n",
    "    plt.show()"
   ]
  },
  {
   "cell_type": "code",
   "execution_count": 10,
   "id": "7dacf2a4",
   "metadata": {},
   "outputs": [],
   "source": [
    "def random_square_points(n, side = 50):\n",
    "    points = []\n",
    "    for _ in range(n):\n",
    "        points.append((\n",
    "          random.uniform(0.0, float(side)),\n",
    "          random.uniform(0.0, float(side))\n",
    "        ))\n",
    "\n",
    "    return points"
   ]
  },
  {
   "cell_type": "code",
   "execution_count": 11,
   "id": "e96252c6",
   "metadata": {},
   "outputs": [],
   "source": [
    "def sort_y(points):\n",
    "    return sorted(points, key=lambda p: p[1])\n",
    "\n",
    "def sort_x(points):\n",
    "    return sorted(points, key=lambda p: p[0])\n",
    "\n",
    "def dist(p1, p2):\n",
    "    return math.sqrt((p1[0] - p2[0]) ** 2 + (p1[1] - p2[1]) ** 2)\n",
    "\n",
    "def find_brute_force(points):\n",
    "    n = len(points)\n",
    "    res = {'dist': float('inf'), 'points': []}\n",
    "\n",
    "    ops = 0\n",
    "\n",
    "    for i in range(0, n):\n",
    "        for j in range(i + 1, n):\n",
    "            d = dist(points[i], points[j])\n",
    "            ops +=1\n",
    "            if d < res['dist']:\n",
    "                res = {'dist': d, 'points': (points[i], points[j])}\n",
    "\n",
    "    return (res, ops)"
   ]
  },
  {
   "cell_type": "code",
   "execution_count": 90,
   "id": "2c576e30",
   "metadata": {},
   "outputs": [],
   "source": [
    "def _nearest_points(y_sorted, x_sorted):\n",
    "    n = len(y_sorted)\n",
    "\n",
    "    if n <= 3:\n",
    "        return find_brute_force(y_sorted)\n",
    "\n",
    "    mid_idx = n // 2\n",
    "    mid_point = y_sorted[mid_idx]\n",
    "\n",
    "    nearest1, ops1 = _nearest_points(y_sorted[:mid_idx], [p for p in x_sorted if p[1] < mid_point[1]])\n",
    "    nearest2, ops2 = _nearest_points(y_sorted[mid_idx:], [p for p in x_sorted if p[1] >= mid_point[1]])\n",
    "\n",
    "    nearest = min([\n",
    "        nearest1,\n",
    "        nearest2\n",
    "    ], key=lambda x: x['dist'])\n",
    "\n",
    "    candidates = []\n",
    "    for p in x_sorted:\n",
    "        if abs(p[1] - mid_point[1]) < nearest['dist']:\n",
    "            candidates.append(p)\n",
    "\n",
    "    ops = ops1 + ops2\n",
    "\n",
    "    # at most this loop has 6 * n/2 iterations\n",
    "    for i in range(0, len(candidates)):\n",
    "        for j in range(i + 1, len(candidates)):\n",
    "            if candidates[j][0] - candidates[i][0] < nearest['dist']:\n",
    "                d = dist(candidates[i], candidates[j])\n",
    "                ops += 1\n",
    "                if d < nearest['dist']:\n",
    "                    nearest = {'dist': d, 'points': (candidates[i], candidates[j])}\n",
    "\n",
    "    return (nearest, ops)  \n",
    "\n",
    "def nearest_points(points):\n",
    "    return _nearest_points(sort_y(points), sort_x(points))\n"
   ]
  },
  {
   "cell_type": "markdown",
   "id": "3b7d85cf",
   "metadata": {},
   "source": [
    "### Worst case\n",
    "\n",
    "T(n) = 2T(n/2) + O(n) + O(n) + O(n) = O(nlogn)"
   ]
  },
  {
   "cell_type": "code",
   "execution_count": 106,
   "id": "ad818f23",
   "metadata": {},
   "outputs": [],
   "source": [
    "def experiment():\n",
    "    results = {\n",
    "        'square': {}\n",
    "    }\n",
    "\n",
    "    for n in range(10, 500, 10):\n",
    "        if not results['square'].get(n):\n",
    "            results['square'][n] = {'mean': 0, 'obsevations': []}\n",
    "\n",
    "        for _ in range(100):\n",
    "            points = random_square_points(n)\n",
    "            results['square'][n].append(nearest_points(points)[1])\n",
    "    \n",
    "    return results"
   ]
  },
  {
   "cell_type": "code",
   "execution_count": 107,
   "id": "065e018d",
   "metadata": {},
   "outputs": [],
   "source": [
    "results = experiment()"
   ]
  },
  {
   "cell_type": "code",
   "execution_count": 111,
   "id": "6c1d366c",
   "metadata": {},
   "outputs": [
    {
     "data": {
      "text/plain": [
       "537.91"
      ]
     },
     "execution_count": 111,
     "metadata": {},
     "output_type": "execute_result"
    }
   ],
   "source": [
    "np.mean(results['square'][420])"
   ]
  },
  {
   "cell_type": "code",
   "execution_count": 92,
   "id": "1bc3a497",
   "metadata": {},
   "outputs": [
    {
     "data": {
      "text/plain": [
       "({'dist': 0.931126564950128,\n",
       "  'points': ((5.85542166413287, 42.18184553095629),\n",
       "   (5.628990952312024, 43.08502093623487))},\n",
       " 23)"
      ]
     },
     "execution_count": 92,
     "metadata": {},
     "output_type": "execute_result"
    }
   ],
   "source": [
    "nearest_points([])"
   ]
  },
  {
   "cell_type": "code",
   "execution_count": null,
   "id": "f560d2c0",
   "metadata": {},
   "outputs": [],
   "source": []
  }
 ],
 "metadata": {
  "kernelspec": {
   "display_name": "Python 3 (ipykernel)",
   "language": "python",
   "name": "python3"
  },
  "language_info": {
   "codemirror_mode": {
    "name": "ipython",
    "version": 3
   },
   "file_extension": ".py",
   "mimetype": "text/x-python",
   "name": "python",
   "nbconvert_exporter": "python",
   "pygments_lexer": "ipython3",
   "version": "3.10.7"
  }
 },
 "nbformat": 4,
 "nbformat_minor": 5
}
