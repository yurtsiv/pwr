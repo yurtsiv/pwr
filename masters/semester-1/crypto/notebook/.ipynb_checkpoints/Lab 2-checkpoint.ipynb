{
 "cells": [
  {
   "cell_type": "code",
   "execution_count": 5,
   "id": "e20670ea",
   "metadata": {},
   "outputs": [],
   "source": [
    "def fast_pow(c, N, d):\n",
    "    d_bin = \"{0:b}\".format(d)\n",
    "    d_len = len(d_bin)\n",
    "    reductions = 0\n",
    "    h = 0\n",
    "    x = c\n",
    "\n",
    "    for j in range(1, d_len):\n",
    "        x, r = mod_reduce(x ** 2, N)\n",
    "        reductions = reductions + r\n",
    "        if d_bin[j] == \"1\":\n",
    "            x, r = mod_reduce(x * c, N)\n",
    "            reductions = reductions + r\n",
    "            h = h + 1\n",
    "\n",
    "    return x, h, reductions\n",
    "\n",
    "def mod_reduce(a, b):\n",
    "    reductions = 0\n",
    "    if a >= b:\n",
    "        a = a % b\n",
    "        reductions = 1\n",
    "    return a, reductions\n"
   ]
  },
  {
   "cell_type": "code",
   "execution_count": 6,
   "id": "680a9d3e",
   "metadata": {},
   "outputs": [],
   "source": [
    "from sympy import randprime, mod_inverse\n",
    "import math\n",
    "import numpy as np\n",
    "import random\n",
    "\n",
    "def GenModulus(w):\n",
    "    n = len(w) // 2\n",
    "    p = randprime(2 ** n, 2 ** (n+1))\n",
    "    q = randprime(2 ** n, 2 ** (n+1))\n",
    "    N = p * q\n",
    "    return N, p, q\n",
    "\n",
    "def GenRSA(w):\n",
    "    N, p, q = GenModulus(w)\n",
    "    m = (p-1) * (q-1)\n",
    "    e = 2 ** 16 + 1\n",
    "    d = mod_inverse(e, m)\n",
    "    return N, e, d, p, q\n",
    "\n",
    "def enc(x, N, e):\n",
    "    return fast_pow(x, N, e) #x ** e % N\n",
    "\n",
    "def dec(c, N, d):\n",
    "    return fast_pow(c, N, d) #c ** d % N"
   ]
  },
  {
   "cell_type": "markdown",
   "id": "68c72a4d",
   "metadata": {},
   "source": [
    "## Task 1"
   ]
  },
  {
   "cell_type": "code",
   "execution_count": 64,
   "id": "5495b239",
   "metadata": {
    "scrolled": true
   },
   "outputs": [],
   "source": [
    "w = '1' * 512\n",
    "N, e, d, p, q = GenRSA(w)"
   ]
  },
  {
   "cell_type": "code",
   "execution_count": 65,
   "id": "916add6a",
   "metadata": {},
   "outputs": [
    {
     "data": {
      "text/plain": [
       "'110000001001111101000010110110111100000010101010010110000101000110000001011110001100111111001110001100001110111011001011100101001111101011110000001111011001111100001101011100110001110011110111110111100011101010010011001111111101000101010000011010110111001010010111110100110110001001001000001011001111100111000010011101000010010111000001111001101011110011000111110111111000111111111001001111110000011001000101101011101100001111111000110010101101100000100111011101000110110111010001101111000010011111101010000001'"
      ]
     },
     "execution_count": 65,
     "metadata": {},
     "output_type": "execute_result"
    }
   ],
   "source": [
    "d_bin = \"{0:b}\".format(d)\n",
    "d_bin"
   ]
  },
  {
   "cell_type": "code",
   "execution_count": 75,
   "id": "b10230f3",
   "metadata": {},
   "outputs": [],
   "source": [
    "def generate_ranges(bits):\n",
    "    exponent = int(bits + '1', 2)\n",
    "\n",
    "    first_start = 2\n",
    "    first_end = math.ceil(N ** (1 / exponent))\n",
    "\n",
    "    second_start = first_end + 1\n",
    "    second_end = math.ceil(float(N) ** (1 / (exponent - 1)))\n",
    "\n",
    "    range_len = min(100000, first_end - first_start, second_end - second_start)\n",
    "\n",
    "    return {\n",
    "        \"first_start\": first_start,\n",
    "        \"second_start\": second_start,\n",
    "        \"range_len\": range_len\n",
    "    }"
   ]
  },
  {
   "cell_type": "code",
   "execution_count": 80,
   "id": "100a51dd",
   "metadata": {},
   "outputs": [],
   "source": [
    "def guess_bits(dec_alg):\n",
    "    bits = '1'\n",
    "    \n",
    "    while True: \n",
    "        ranges = generate_ranges(bits)\n",
    "        first_start = ranges[\"first_start\"]\n",
    "        second_start = ranges[\"second_start\"]\n",
    "        range_len = ranges[\"range_len\"]\n",
    "        \n",
    "        if ranges[\"range_len\"] <= 2:\n",
    "            return bits\n",
    "\n",
    "        print(f\"{first_start} - {first_start + range_len} ; {second_start} - {second_start + range_len}\")\n",
    "\n",
    "        sum1, sum2 = 0, 0\n",
    "\n",
    "        for i in range(1, ranges[\"range_len\"]):\n",
    "            sum1 += dec_alg(first_start + i, N, d)[2]\n",
    "            sum2 += dec_alg(second_start + i, N, d)[2]\n",
    "\n",
    "        avg1, avg2 = sum1 / range_len, sum2 / range_len\n",
    "        diff = abs(avg2 - avg1) / max(avg1, avg2)\n",
    "\n",
    "        print(f\"Avg1: {avg1}, avg2: {avg2}, diff: {diff}\")\n",
    "\n",
    "        bits += '0' if diff < 0.003  else '1'\n",
    "        \n",
    "        print(f\"Bits so far: {bits}\")"
   ]
  },
  {
   "cell_type": "code",
   "execution_count": 81,
   "id": "eed49104",
   "metadata": {
    "scrolled": false
   },
   "outputs": [
    {
     "name": "stdout",
     "output_type": "stream",
     "text": [
      "2 - 100002 ; 3480605639010680559949927178989828393506442305339393 - 3480605639010680559949927178989828393506442305439393\n",
      "Avg1: 772.94723, avg2: 775.99224, diff: 0.003924021198974937\n",
      "Bits so far: 11\n",
      "2 - 100002 ; 12282326468920531222529 - 12282326468920531322529\n",
      "Avg1: 772.94723, avg2: 774.99225, diff: 0.0026387618714897114\n",
      "Bits so far: 110\n",
      "2 - 100002 ; 783841106648 - 783841206648\n",
      "Avg1: 772.94723, avg2: 773.99226, diff: 0.0013501814604709316\n",
      "Bits so far: 1100\n",
      "2 - 100002 ; 1531084 - 1631084\n",
      "Avg1: 772.94723, avg2: 772.99212, diff: 5.807303701881129e-05\n",
      "Bits so far: 11000\n",
      "2 - 235 ; 1432 - 1665\n",
      "Avg1: 763.3605150214593, avg2: 768.5107296137339, diff: 0.006701551967743179\n",
      "Bits so far: 110001\n"
     ]
    },
    {
     "data": {
      "text/plain": [
       "'110001'"
      ]
     },
     "execution_count": 81,
     "metadata": {},
     "output_type": "execute_result"
    }
   ],
   "source": [
    "guess_bits(dec)"
   ]
  },
  {
   "cell_type": "markdown",
   "id": "1866e4f4",
   "metadata": {},
   "source": [
    "## Task 2 (Blind signatures)"
   ]
  },
  {
   "cell_type": "code",
   "execution_count": 97,
   "id": "b73363af",
   "metadata": {},
   "outputs": [],
   "source": [
    "import hashlib\n",
    "import struct\n",
    "import random\n",
    "import sympy\n",
    "\n",
    "def rand_coprime(x):\n",
    "    y =  random.randint(2, x)\n",
    "    while math.gcd(2, N) != 1:\n",
    "        y = random.randint(2, x)\n",
    "    \n",
    "    return y\n",
    "\n",
    "def fastpow(x, N, e):\n",
    "    return fast_pow(x, N, e)[0]\n",
    "\n",
    "# def h(num):\n",
    "#     return int(hashlib.sha256(str(num).encode('ASCII')).hexdigest()[:5], 16)\n",
    "\n",
    "def sign(m, N, d):\n",
    "    return fastpow(m, N, d)\n",
    "\n",
    "def verify(m, s, N, e):\n",
    "    return m == fastpow(s, N, e)\n",
    "\n",
    "\n",
    "def blind_sign(m, N, d):\n",
    "    r = rand_coprime(N)\n",
    "    r_inv = mod_inverse(r, N)\n",
    "    m_prime = m * fast_pow(r, N, e)[0] % N\n",
    "    return sign(m_prime, N, d) * r_inv % N\n"
   ]
  },
  {
   "cell_type": "code",
   "execution_count": 98,
   "id": "aecbace9",
   "metadata": {},
   "outputs": [
    {
     "data": {
      "text/plain": [
       "(3925302043059167112260714547613, 65537, 3612772844885876080623374339009)"
      ]
     },
     "execution_count": 98,
     "metadata": {},
     "output_type": "execute_result"
    }
   ],
   "source": [
    "N, e, d, p, q = GenRSA(\"1\" * 100)\n",
    "N, e, d"
   ]
  },
  {
   "cell_type": "code",
   "execution_count": 99,
   "id": "e5b9aa8f",
   "metadata": {
    "scrolled": true
   },
   "outputs": [
    {
     "name": "stdout",
     "output_type": "stream",
     "text": [
      "Usual: 1073719314799014093724356084779\n",
      "Blind: 1073719314799014093724356084779\n"
     ]
    }
   ],
   "source": [
    "m = 100\n",
    "\n",
    "usual = sign(m, N, d)\n",
    "blind = blind_sign(m, N, d)\n",
    "\n",
    "print(f\"Usual: {usual}\\nBlind: {blind}\")"
   ]
  },
  {
   "cell_type": "code",
   "execution_count": 100,
   "id": "89d7113b",
   "metadata": {},
   "outputs": [
    {
     "data": {
      "text/plain": [
       "(True, True)"
      ]
     },
     "execution_count": 100,
     "metadata": {},
     "output_type": "execute_result"
    }
   ],
   "source": [
    "verify(m, usual, N, e), verify(m, blind, N, e)"
   ]
  },
  {
   "cell_type": "markdown",
   "id": "76927f93",
   "metadata": {},
   "source": [
    "## Task 3"
   ]
  },
  {
   "cell_type": "code",
   "execution_count": 101,
   "id": "33ae37b2",
   "metadata": {},
   "outputs": [],
   "source": [
    "def blind_dec(c, N, e, d):\n",
    "    r = rand_coprime(N)\n",
    "    r_inv = mod_inverse(r, N)\n",
    "    m_prime, h, r = dec(c * fast_pow(r, N, e)[0] % N, N, d)\n",
    "    return m_prime * r_inv % N, h, r"
   ]
  },
  {
   "cell_type": "code",
   "execution_count": 102,
   "id": "55815437",
   "metadata": {},
   "outputs": [
    {
     "data": {
      "text/plain": [
       "((2568086143711149807001014504234, 49, 150),\n",
       " (2568086143711149807001014504234, 49, 146))"
      ]
     },
     "execution_count": 102,
     "metadata": {},
     "output_type": "execute_result"
    }
   ],
   "source": [
    "c = 1000\n",
    "\n",
    "blind_dec(c, N, e, d), dec(c, N, d)"
   ]
  },
  {
   "cell_type": "code",
   "execution_count": 104,
   "id": "cf94efc1",
   "metadata": {},
   "outputs": [
    {
     "name": "stdout",
     "output_type": "stream",
     "text": [
      "2 - 100002 ; 15774575952 - 15774675952\n",
      "Avg1: 149.9985, avg2: 149.9985, diff: 0.0\n",
      "Bits so far: 10\n",
      "2 - 100002 ; 1314544 - 1414544\n",
      "Avg1: 149.9985, avg2: 149.9985, diff: 0.0\n",
      "Bits so far: 100\n",
      "2 - 2508 ; 2509 - 5015\n",
      "Avg1: 149.94014365522744, avg2: 149.94014365522744, diff: 0.0\n",
      "Bits so far: 1000\n",
      "2 - 19 ; 65 - 82\n",
      "Avg1: 141.1764705882353, avg2: 141.1764705882353, diff: 0.0\n",
      "Bits so far: 10000\n"
     ]
    },
    {
     "data": {
      "text/plain": [
       "'10000'"
      ]
     },
     "execution_count": 104,
     "metadata": {},
     "output_type": "execute_result"
    }
   ],
   "source": [
    "guess_bits(lambda c, N, d: blind_dec(c, N, e, d))"
   ]
  },
  {
   "cell_type": "code",
   "execution_count": null,
   "id": "c33d6738",
   "metadata": {},
   "outputs": [],
   "source": []
  }
 ],
 "metadata": {
  "kernelspec": {
   "display_name": "Python 3 (ipykernel)",
   "language": "python",
   "name": "python3"
  },
  "language_info": {
   "codemirror_mode": {
    "name": "ipython",
    "version": 3
   },
   "file_extension": ".py",
   "mimetype": "text/x-python",
   "name": "python",
   "nbconvert_exporter": "python",
   "pygments_lexer": "ipython3",
   "version": "3.10.1"
  }
 },
 "nbformat": 4,
 "nbformat_minor": 5
}
