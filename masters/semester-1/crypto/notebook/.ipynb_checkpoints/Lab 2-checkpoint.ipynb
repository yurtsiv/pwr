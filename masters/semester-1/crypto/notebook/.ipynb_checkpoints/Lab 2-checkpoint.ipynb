{
 "cells": [
  {
   "cell_type": "code",
   "execution_count": 102,
   "id": "e20670ea",
   "metadata": {},
   "outputs": [],
   "source": [
    "def fast_pow(c, N, d):\n",
    "    d_bin = \"{0:b}\".format(d)\n",
    "    d_len = len(d_bin)\n",
    "    reductions = 0\n",
    "    h = 0\n",
    "    x = c\n",
    "\n",
    "    for j in range(1, d_len):\n",
    "        x, r = mod_reduce(x ** 2, N)\n",
    "        reductions = reductions + r\n",
    "        if d_bin[j] == \"1\":\n",
    "            x, r = mod_reduce(x * c, N)\n",
    "            reductions = reductions + r\n",
    "            h = h + 1\n",
    "\n",
    "    return x, h, reductions\n",
    "\n",
    "def mod_reduce(a, b):\n",
    "    reductions = 0\n",
    "    if a >= b:\n",
    "        a = a % b\n",
    "        reductions = 1\n",
    "    return a, reductions\n"
   ]
  },
  {
   "cell_type": "code",
   "execution_count": 103,
   "id": "680a9d3e",
   "metadata": {},
   "outputs": [],
   "source": [
    "from sympy import randprime, mod_inverse\n",
    "import math\n",
    "import numpy as np\n",
    "import random\n",
    "\n",
    "def GenModulus(w):\n",
    "    n = len(w) // 2\n",
    "    p = randprime(2 ** n, 2 ** (n+1))\n",
    "    q = randprime(2 ** n, 2 ** (n+1))\n",
    "    N = p * q\n",
    "    return N, p, q\n",
    "\n",
    "def GenRSA(w):\n",
    "    N, p, q = GenModulus(w)\n",
    "    m = (p-1) * (q-1)\n",
    "    e = 2 ** 16 + 1\n",
    "    d = mod_inverse(e, m)\n",
    "    return N, e, d, p, q\n",
    "\n",
    "def enc(x, N, e):\n",
    "    return fast_pow(x, N, e) #x ** e % N\n",
    "\n",
    "def dec(c, N, d):\n",
    "    return fast_pow(c, N, d) #c ** d % N"
   ]
  },
  {
   "cell_type": "markdown",
   "id": "68c72a4d",
   "metadata": {},
   "source": [
    "## Task 1"
   ]
  },
  {
   "cell_type": "code",
   "execution_count": 104,
   "id": "5495b239",
   "metadata": {
    "scrolled": true
   },
   "outputs": [
    {
     "name": "stdout",
     "output_type": "stream",
     "text": [
      "2474851085089393729489 65537 941120874317071099009 50589345497 48920401337\n"
     ]
    }
   ],
   "source": [
    "w = '1' * 70\n",
    "N, e, d, p, q = GenRSA(w)\n",
    "\n",
    "print(N, e, d, p, q)"
   ]
  },
  {
   "cell_type": "code",
   "execution_count": 105,
   "id": "916add6a",
   "metadata": {},
   "outputs": [
    {
     "data": {
      "text/plain": [
       "'1100110000010010101101000000001110101101010110000100011010010010000001'"
      ]
     },
     "execution_count": 105,
     "metadata": {},
     "output_type": "execute_result"
    }
   ],
   "source": [
    "d_bin = \"{0:b}\".format(d)\n",
    "d_bin"
   ]
  },
  {
   "cell_type": "code",
   "execution_count": 106,
   "id": "b10230f3",
   "metadata": {},
   "outputs": [],
   "source": [
    "def generate_nums(bits):\n",
    "    exponent = int(bits + '1', 2)\n",
    "\n",
    "    first_end = min(100000, math.ceil(N ** (1 / exponent)))\n",
    "    first = range(2, first_end)\n",
    "\n",
    "    second_start = math.ceil(N ** (1 / exponent)) + 1\n",
    "    second_end = min(math.ceil(N ** (1 / (exponent - 1))), second_start + 100000)\n",
    "    second = range(second_start, second_end)\n",
    "\n",
    "    return list(first), list(second)"
   ]
  },
  {
   "cell_type": "code",
   "execution_count": 107,
   "id": "100a51dd",
   "metadata": {},
   "outputs": [],
   "source": [
    "def guess_bits():\n",
    "    bits = '1'\n",
    "    \n",
    "    while True: \n",
    "        nums = generate_nums(bits)\n",
    "        \n",
    "\n",
    "        if min(len(nums[0]), len(nums[1])) <= 1:\n",
    "            return bits\n",
    "\n",
    "        print(f\"{nums[0][0]} - {nums[0][-1]} ; {nums[1][0]} - {nums[1][-1]}\")\n",
    "\n",
    "        reductions = []\n",
    "        for first_num, second_num in zip(*nums):\n",
    "            reductions.append((\n",
    "                dec(first_num, N, d)[2],\n",
    "                dec(second_num, N, d)[2]\n",
    "            ))\n",
    "\n",
    "        v = np.var(reductions)\n",
    "        print(f\"Var = {v}\")\n",
    "        bits += '0' if v  <= 1 else '1'"
   ]
  },
  {
   "cell_type": "code",
   "execution_count": 108,
   "id": "eed49104",
   "metadata": {
    "scrolled": false
   },
   "outputs": [
    {
     "name": "stdout",
     "output_type": "stream",
     "text": [
      "2 - 99999 ; 13526426 - 13626425\n",
      "Var = 0.29702410344532815\n",
      "2 - 18998 ; 19000 - 118999\n",
      "Var = 0.1318083877283256\n",
      "2 - 238 ; 240 - 472\n",
      "Var = 2.0740297297795136\n"
     ]
    },
    {
     "data": {
      "text/plain": [
       "'1001'"
      ]
     },
     "execution_count": 108,
     "metadata": {},
     "output_type": "execute_result"
    }
   ],
   "source": [
    "guess_bits()"
   ]
  },
  {
   "cell_type": "markdown",
   "id": "1866e4f4",
   "metadata": {},
   "source": [
    "## Task 2 (Blind signatures)"
   ]
  },
  {
   "cell_type": "code",
   "execution_count": 153,
   "id": "b73363af",
   "metadata": {},
   "outputs": [],
   "source": [
    "import hashlib\n",
    "import struct\n",
    "import random\n",
    "import sympy\n",
    "\n",
    "def rand_coprime(x):\n",
    "    y =  random.randint(2, x)\n",
    "    while math.gcd(r, N) != 1:\n",
    "        y = random.randint(2, x)\n",
    "    \n",
    "    return y\n",
    "\n",
    "def fastpow(x, N, e):\n",
    "    return fast_pow(x, N, e)[0]\n",
    "\n",
    "# def h(num):\n",
    "#     return int(hashlib.sha256(str(num).encode('ASCII')).hexdigest()[:5], 16)\n",
    "\n",
    "def sign(m, N, d):\n",
    "    return fastpow(m, N, d)\n",
    "\n",
    "def verify(m, s, N, e):\n",
    "    return m == fastpow(s, N, e)\n",
    "\n",
    "\n",
    "def blind_sign(m, N, d):\n",
    "    r = rand_coprime(N)\n",
    "    r_inv = mod_inverse(r, N)\n",
    "    m_prime = m * fast_pow(r, N, e)[0] % N\n",
    "    return sign(m_prime, N, d) * r_inv % N\n"
   ]
  },
  {
   "cell_type": "code",
   "execution_count": 154,
   "id": "aecbace9",
   "metadata": {},
   "outputs": [
    {
     "data": {
      "text/plain": [
       "(3280063719696351696207369088433, 65537, 1134461515393703107137208493393)"
      ]
     },
     "execution_count": 154,
     "metadata": {},
     "output_type": "execute_result"
    }
   ],
   "source": [
    "N, e, d, p, q = GenRSA(\"1\" * 100)\n",
    "N, e, d"
   ]
  },
  {
   "cell_type": "code",
   "execution_count": 156,
   "id": "e5b9aa8f",
   "metadata": {
    "scrolled": true
   },
   "outputs": [
    {
     "name": "stdout",
     "output_type": "stream",
     "text": [
      "Usual: 1917899468749281425228222038248\n",
      "Blind: 1917899468749281425228222038248\n"
     ]
    }
   ],
   "source": [
    "m = 100\n",
    "\n",
    "usual = sign(m, N, d)\n",
    "blind = blind_sign(m, N, d)\n",
    "\n",
    "print(f\"Usual: {usual}\\nBlind: {blind}\")"
   ]
  },
  {
   "cell_type": "code",
   "execution_count": 158,
   "id": "89d7113b",
   "metadata": {},
   "outputs": [
    {
     "data": {
      "text/plain": [
       "(True, True)"
      ]
     },
     "execution_count": 158,
     "metadata": {},
     "output_type": "execute_result"
    }
   ],
   "source": [
    "verify(m, usual, N, e), verify(m, blind, N, e)"
   ]
  },
  {
   "cell_type": "markdown",
   "id": "76927f93",
   "metadata": {},
   "source": [
    "## Task 3"
   ]
  },
  {
   "cell_type": "code",
   "execution_count": 161,
   "id": "33ae37b2",
   "metadata": {},
   "outputs": [],
   "source": [
    "def blind_dec(c, N, e, d):\n",
    "    r = rand_coprime(N)\n",
    "    r_inv = mod_inverse(r, N)\n",
    "    m_prime, h, r = dec(c * fast_pow(r, N, e)[0] % N, N, d)\n",
    "    return m_prime * r_inv % N, h, r"
   ]
  },
  {
   "cell_type": "code",
   "execution_count": 166,
   "id": "55815437",
   "metadata": {},
   "outputs": [
    {
     "data": {
      "text/plain": [
       "((319855790163060887118454472407, 45, 144),\n",
       " (319855790163060887118454472407, 45, 140))"
      ]
     },
     "execution_count": 166,
     "metadata": {},
     "output_type": "execute_result"
    }
   ],
   "source": [
    "c = 1000\n",
    "\n",
    "blind_dec(c, N, e, d), dec(c, N, d)"
   ]
  },
  {
   "cell_type": "code",
   "execution_count": null,
   "id": "cf94efc1",
   "metadata": {},
   "outputs": [],
   "source": []
  },
  {
   "cell_type": "code",
   "execution_count": null,
   "id": "ddcdd682",
   "metadata": {},
   "outputs": [],
   "source": []
  }
 ],
 "metadata": {
  "kernelspec": {
   "display_name": "Python 3 (ipykernel)",
   "language": "python",
   "name": "python3"
  },
  "language_info": {
   "codemirror_mode": {
    "name": "ipython",
    "version": 3
   },
   "file_extension": ".py",
   "mimetype": "text/x-python",
   "name": "python",
   "nbconvert_exporter": "python",
   "pygments_lexer": "ipython3",
   "version": "3.10.1"
  }
 },
 "nbformat": 4,
 "nbformat_minor": 5
}
