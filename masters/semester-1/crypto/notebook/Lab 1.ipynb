{
 "cells": [
  {
   "cell_type": "markdown",
   "id": "2d42da53",
   "metadata": {},
   "source": [
    "## Task 1"
   ]
  },
  {
   "cell_type": "markdown",
   "id": "3264dc3e",
   "metadata": {},
   "source": [
    "### 1. Extract modulus from certificate.pem"
   ]
  },
  {
   "cell_type": "markdown",
   "id": "6ae3c7a4",
   "metadata": {},
   "source": [
    "00:e6:49:d5:7f:6f:f9:cf:f6:55:cb:79:ee:38:38:\n",
    "0c:8f:82:78:eb:37:4a:90:05:9b:0f:f0:65:34:82:\n",
    "9d:33:7c:75:3d:0e:59:af:ed:6f:a4:89:f0:15:cf:33"
   ]
  },
  {
   "cell_type": "markdown",
   "id": "b71a5f18",
   "metadata": {},
   "source": [
    "### 2. Convert it to dec"
   ]
  },
  {
   "cell_type": "markdown",
   "id": "c6187e15",
   "metadata": {},
   "source": [
    "2112664634855999140031945945998785346946804826144846396410436155861557104011009549879696604291518474904522547"
   ]
  },
  {
   "cell_type": "markdown",
   "id": "7e4973a5",
   "metadata": {},
   "source": [
    "### 3. Factorize it (using http://www.factordb.com)"
   ]
  },
  {
   "cell_type": "markdown",
   "id": "93d9c45e",
   "metadata": {},
   "source": [
    "p = 1385409854850246784644682622624349784560468558795524903\n",
    "\n",
    "q = 1524938362073628791222322453937223798227099080053904149"
   ]
  },
  {
   "cell_type": "markdown",
   "id": "a034214c",
   "metadata": {},
   "source": [
    "### 4. Calculate private d"
   ]
  },
  {
   "cell_type": "markdown",
   "id": "3432f4a0",
   "metadata": {},
   "source": [
    "m = (p - 1) * (q - 1) = 2112664634855999140031945945998785346946804826144846393500087938937681528144004473318123021503950836055093496"
   ]
  },
  {
   "cell_type": "markdown",
   "id": "367746ae",
   "metadata": {},
   "source": [
    "gcd, x, d = egcd(65537, m)"
   ]
  },
  {
   "cell_type": "markdown",
   "id": "6e01cb33",
   "metadata": {},
   "source": [
    "d = 585377376205045827301220782663105468898592075285171211065018186416365699827074434761795565062334913589643145"
   ]
  },
  {
   "cell_type": "markdown",
   "id": "a8638a97",
   "metadata": {},
   "source": [
    "### 5. Generate forgedKey.pem using [rsatool](https://github.com/ius/rsatool)"
   ]
  },
  {
   "cell_type": "markdown",
   "id": "3736f23d",
   "metadata": {},
   "source": [
    "python3 rsatool.py -f PEM -o forgedKey.pem -n 2112664634855999140031945945998785346946804826144846396410436155861557104011009549879696604291518474904522547 -d 585377376205045827301220782663105468898592075285171211065018186416365699827074434761795565062334913589643145"
   ]
  },
  {
   "cell_type": "markdown",
   "id": "e2c7badd",
   "metadata": {},
   "source": [
    "### 6. Generate gradeForged.sign signature"
   ]
  },
  {
   "cell_type": "code",
   "execution_count": null,
   "id": "a16c2db3",
   "metadata": {},
   "outputs": [],
   "source": []
  }
 ],
 "metadata": {
  "kernelspec": {
   "display_name": "Python 3 (ipykernel)",
   "language": "python",
   "name": "python3"
  },
  "language_info": {
   "codemirror_mode": {
    "name": "ipython",
    "version": 3
   },
   "file_extension": ".py",
   "mimetype": "text/x-python",
   "name": "python",
   "nbconvert_exporter": "python",
   "pygments_lexer": "ipython3",
   "version": "3.9.10"
  }
 },
 "nbformat": 4,
 "nbformat_minor": 5
}
