{
 "cells": [
  {
   "cell_type": "code",
   "execution_count": 4,
   "id": "1ea80140",
   "metadata": {
    "scrolled": true
   },
   "outputs": [
    {
     "name": "stdout",
     "output_type": "stream",
     "text": [
      "Defaulting to user installation because normal site-packages is not writeable\n",
      "Collecting sympy\n",
      "  Downloading sympy-1.10-py3-none-any.whl (6.4 MB)\n",
      "\u001b[2K     \u001b[38;2;114;156;31m━━━━━━━━━━━━━━━━━━━━━━━━━━━━━━━━━━━━━━━━\u001b[0m \u001b[32m6.4/6.4 MB\u001b[0m \u001b[31m4.0 MB/s\u001b[0m eta \u001b[36m0:00:00\u001b[0mm eta \u001b[36m0:00:01\u001b[0m0:01\u001b[0m:01\u001b[0m\n",
      "\u001b[?25hCollecting mpmath>=0.19\n",
      "  Downloading mpmath-1.2.1-py3-none-any.whl (532 kB)\n",
      "\u001b[2K     \u001b[38;2;114;156;31m━━━━━━━━━━━━━━━━━━━━━━━━━━━━━━━━━━━━━━━\u001b[0m \u001b[32m532.6/532.6 KB\u001b[0m \u001b[31m3.9 MB/s\u001b[0m eta \u001b[36m0:00:00\u001b[0m MB/s\u001b[0m eta \u001b[36m0:00:01\u001b[0m:01\u001b[0m\n",
      "\u001b[?25hInstalling collected packages: mpmath, sympy\n",
      "Successfully installed mpmath-1.2.1 sympy-1.10\n",
      "\u001b[33mWARNING: You are using pip version 22.0.3; however, version 22.0.4 is available.\n",
      "You should consider upgrading via the '/usr/bin/python3 -m pip install --upgrade pip' command.\u001b[0m\u001b[33m\n",
      "\u001b[0m"
     ]
    }
   ],
   "source": [
    "# Install a pip package in the current Jupyter kernel\n",
    "import sys\n",
    "!{sys.executable} -m pip install sympy"
   ]
  },
  {
   "cell_type": "code",
   "execution_count": 5,
   "id": "595fdcfa",
   "metadata": {},
   "outputs": [],
   "source": [
    "from sympy import *"
   ]
  },
  {
   "cell_type": "code",
   "execution_count": 36,
   "id": "5ce49e07",
   "metadata": {},
   "outputs": [],
   "source": [
    "def egcd(b, n):\n",
    "    (x0, x1, y0, y1) = (1, 0, 0, 1)\n",
    "    while n != 0:\n",
    "        (q, b, n) = (b // n, n, b % n)\n",
    "        (x0, x1) = (x1, x0 - q * x1)\n",
    "        (y0, y1) = (y1, y0 - q * y1)\n",
    "    return (b, x0, y0)\n",
    "    "
   ]
  },
  {
   "cell_type": "code",
   "execution_count": 33,
   "id": "060c60fd",
   "metadata": {},
   "outputs": [],
   "source": [
    "def genModulus(w):\n",
    "    n = len(w)\n",
    "    p = randprime(2 ** n, 2 ** (n + 1))\n",
    "    q = randprime(2**n, 2 ** (n + 1))\n",
    "    N = p * q\n",
    "    return N, p, q"
   ]
  },
  {
   "cell_type": "code",
   "execution_count": 62,
   "id": "0ca52456",
   "metadata": {},
   "outputs": [],
   "source": [
    "def genRsa(w):\n",
    "    N, p, q = genModulus(w)\n",
    "    m = (p - 1) * (q - 1)    \n",
    "    e = 65537\n",
    "    gcd, d, y = egcd(e, m)\n",
    "    if d < 0:\n",
    "        d = m + d\n",
    "\n",
    "    print(\"p =\", p, \"q =\", q, \"N =\", N, \"m =\", m, \"e =\", e, \"d =\", d)\n",
    "    return N, e, d"
   ]
  },
  {
   "cell_type": "code",
   "execution_count": 103,
   "id": "b4865623",
   "metadata": {},
   "outputs": [
    {
     "name": "stdout",
     "output_type": "stream",
     "text": [
      "p = 251 q = 251 N = 63001 m = 62500 e = 65537 d = 35973\n",
      "c = 5296\n",
      "m = 21435\n"
     ]
    }
   ],
   "source": [
    "N, e, d = genRsa(\"1111111\")\n",
    "\n",
    "m = 100\n",
    "c = (m ** e) % N\n",
    "print(\"c =\", c)\n",
    "print(\"m =\", (c ** d) % N)"
   ]
  },
  {
   "cell_type": "code",
   "execution_count": null,
   "id": "23a53574",
   "metadata": {},
   "outputs": [],
   "source": []
  }
 ],
 "metadata": {
  "kernelspec": {
   "display_name": "Python 3 (ipykernel)",
   "language": "python",
   "name": "python3"
  },
  "language_info": {
   "codemirror_mode": {
    "name": "ipython",
    "version": 3
   },
   "file_extension": ".py",
   "mimetype": "text/x-python",
   "name": "python",
   "nbconvert_exporter": "python",
   "pygments_lexer": "ipython3",
   "version": "3.10.1"
  }
 },
 "nbformat": 4,
 "nbformat_minor": 5
}
