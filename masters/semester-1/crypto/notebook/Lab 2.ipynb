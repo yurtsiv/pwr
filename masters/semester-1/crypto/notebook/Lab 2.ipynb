{
 "cells": [
  {
   "cell_type": "code",
   "execution_count": 461,
   "id": "e20670ea",
   "metadata": {},
   "outputs": [],
   "source": [
    "def fast_pow(c, N, d):\n",
    "    d_bin = \"{0:b}\".format(d)\n",
    "    d_len = len(d_bin)\n",
    "    reductions = 0\n",
    "    h = 0\n",
    "    x = c\n",
    "\n",
    "    for j in range(1, d_len):\n",
    "        x, r = mod_reduce(x ** 2, N)\n",
    "        reductions = reductions + r\n",
    "        if d_bin[j] == \"1\":\n",
    "            x, r = mod_reduce(x * c, N)\n",
    "            reductions = reductions + r\n",
    "            h = h + 1\n",
    "\n",
    "    return x, h, reductions\n",
    "\n",
    "def mod_reduce(a, b):\n",
    "    reductions = 0\n",
    "    if a >= b:\n",
    "        a = a % b\n",
    "        reductions = 1\n",
    "    return a, reductions\n"
   ]
  },
  {
   "cell_type": "code",
   "execution_count": 462,
   "id": "680a9d3e",
   "metadata": {},
   "outputs": [],
   "source": [
    "from sympy import randprime, mod_inverse\n",
    "import math\n",
    "import numpy as np\n",
    "\n",
    "def GenModulus(w):\n",
    "    n = len(w) // 2\n",
    "    p = randprime(2 ** n, 2 ** (n+1))\n",
    "    q = randprime(2 ** n, 2 ** (n+1))\n",
    "    N = p * q\n",
    "    return N, p, q\n",
    "\n",
    "def GenRSA(w):\n",
    "    N, p, q = GenModulus(w)\n",
    "    m = (p-1) * (q-1)\n",
    "    e = 2 ** 16 + 1\n",
    "    d = mod_inverse(e, m)\n",
    "    return N, e, d, p, q\n",
    "\n",
    "def enc(x, N, e):\n",
    "    return fast_pow(x, N, e) #x ** e % N\n",
    "\n",
    "def dec(c, N, d):\n",
    "    return fast_pow(c, N, d) #c ** d % N"
   ]
  },
  {
   "cell_type": "code",
   "execution_count": 463,
   "id": "5495b239",
   "metadata": {
    "scrolled": true
   },
   "outputs": [
    {
     "name": "stdout",
     "output_type": "stream",
     "text": [
      "899 65537 593 31 29\n"
     ]
    }
   ],
   "source": [
    "w = \"11111111\"\n",
    "N, e, d, p, q = GenRSA(w)\n",
    "\n",
    "print(N, e, d, p, q)"
   ]
  },
  {
   "cell_type": "code",
   "execution_count": 464,
   "id": "916add6a",
   "metadata": {},
   "outputs": [
    {
     "data": {
      "text/plain": [
       "'1001010001'"
      ]
     },
     "execution_count": 464,
     "metadata": {},
     "output_type": "execute_result"
    }
   ],
   "source": [
    "d_bin = \"{0:b}\".format(d)\n",
    "d_bin"
   ]
  },
  {
   "cell_type": "code",
   "execution_count": 465,
   "id": "100a51dd",
   "metadata": {},
   "outputs": [
    {
     "data": {
      "text/plain": [
       "'1111111111'"
      ]
     },
     "execution_count": 465,
     "metadata": {},
     "output_type": "execute_result"
    }
   ],
   "source": [
    "key = '1'\n",
    "for b in range(1, len(\"{0:b}\".format(d))):\n",
    "    res0 = []\n",
    "    for c in range(2, N * 2):\n",
    "        d_g = int(key + '01')\n",
    "        x1, h1, r1 = fast_pow(c, N, d)\n",
    "        x2, h2, r2 = fast_pow(c, N, d_g)\n",
    "        res0.append((r1, r2))\n",
    "\n",
    "    res1 = []\n",
    "    for c in range(2, N * 2):\n",
    "        d_g = int(key + '10')\n",
    "        x1, h1, r1 = fast_pow(c, N, d)\n",
    "        x2, h2, r2 = fast_pow(c, N, d_g)\n",
    "        res1.append((r1, r2))\n",
    "    \n",
    "    key += '0' if np.var(res0) < np.var(res1) else '1' \n",
    "\n",
    "key"
   ]
  },
  {
   "cell_type": "markdown",
   "id": "1866e4f4",
   "metadata": {},
   "source": [
    "## Task 2 (Blind signatures)"
   ]
  },
  {
   "cell_type": "code",
   "execution_count": 466,
   "id": "b73363af",
   "metadata": {},
   "outputs": [],
   "source": [
    "import hashlib\n",
    "import struct\n",
    "import random\n",
    "import sympy\n",
    "\n",
    "def fastpow(x, N, e):\n",
    "    return fast_pow(x, N, e)[0]\n",
    "\n",
    "def h(num):\n",
    "    return int(hashlib.sha256(struct.pack('<I', num)).hexdigest()[:6], 16)\n",
    "\n",
    "def sign(m, N, d):\n",
    "    return fastpow(m, N, d)\n",
    "\n",
    "def verify(m, s, N, e):\n",
    "    hm = h(m) % N\n",
    "    return hm == fastpow(s, N, e)"
   ]
  },
  {
   "cell_type": "code",
   "execution_count": 467,
   "id": "aecbace9",
   "metadata": {},
   "outputs": [
    {
     "data": {
      "text/plain": [
       "(551, 65537, 89)"
      ]
     },
     "execution_count": 467,
     "metadata": {},
     "output_type": "execute_result"
    }
   ],
   "source": [
    "N, e, d, p, q = GenRSA(\"11111111\")\n",
    "N, e, d"
   ]
  },
  {
   "cell_type": "code",
   "execution_count": 468,
   "id": "e5b9aa8f",
   "metadata": {},
   "outputs": [
    {
     "data": {
      "text/plain": [
       "True"
      ]
     },
     "execution_count": 468,
     "metadata": {},
     "output_type": "execute_result"
    }
   ],
   "source": [
    "m = 100\n",
    "\n",
    "r =  random.randint(3, N)\n",
    "r_inv = mod_inverse(r, N)\n",
    "\n",
    "m_prime = m * fast_pow(r, N, e)[0] % N\n",
    "\n",
    "s_real = sign(m, N, d) # m ^ d % N\n",
    "s_r = sign(m_prime, N, d) * r_inv % N # (m * (r ^ e)) ^ d\n",
    "\n",
    "s_real == s_r"
   ]
  },
  {
   "cell_type": "code",
   "execution_count": 469,
   "id": "110d7f6d",
   "metadata": {},
   "outputs": [
    {
     "data": {
      "text/plain": [
       "2"
      ]
     },
     "execution_count": 469,
     "metadata": {},
     "output_type": "execute_result"
    }
   ],
   "source": [
    "dec(enc(2, N, e)[0], N, d)[0]"
   ]
  },
  {
   "cell_type": "code",
   "execution_count": null,
   "id": "fd77243d",
   "metadata": {},
   "outputs": [],
   "source": []
  }
 ],
 "metadata": {
  "kernelspec": {
   "display_name": "Python 3 (ipykernel)",
   "language": "python",
   "name": "python3"
  },
  "language_info": {
   "codemirror_mode": {
    "name": "ipython",
    "version": 3
   },
   "file_extension": ".py",
   "mimetype": "text/x-python",
   "name": "python",
   "nbconvert_exporter": "python",
   "pygments_lexer": "ipython3",
   "version": "3.10.1"
  }
 },
 "nbformat": 4,
 "nbformat_minor": 5
}
