{
 "cells": [
  {
   "cell_type": "code",
   "execution_count": 39,
   "id": "5beb73ab",
   "metadata": {},
   "outputs": [],
   "source": [
    "import random\n",
    "import string\n",
    "\n",
    "def rand_hex(chars):\n",
    "    return ''.join(random.choices('0123456789ABCDEF', k = chars))\n",
    "\n",
    "def rand_bits(l):\n",
    "    return \"{0:b}\".format(random.getrandbits(l)).rjust(l, '0')\n",
    "\n",
    "def xor_str(key, s):\n",
    "    if len(key) < len(s):\n",
    "        key = key * (len(s) // len(key) + 1)\n",
    "\n",
    "    return ''.join([chr(ord(a) ^ ord(b)) for a, b in zip(key, s)])"
   ]
  },
  {
   "cell_type": "code",
   "execution_count": 68,
   "id": "79bcec48",
   "metadata": {},
   "outputs": [],
   "source": [
    "from Crypto.Cipher import AES\n",
    "from Crypto.Random import get_random_bytes\n",
    "import random\n",
    "import hashlib\n",
    "\n",
    "KEY_PREFIX = '0123456789ABCDEF0123456789ABCDEF'\n",
    "\n",
    "class Alice:\n",
    "    def __init__(self):\n",
    "        self.puzzles = {}\n",
    "        self.aes_key = None\n",
    "\n",
    "    def gen_puzzles(self, N):\n",
    "        if len(self.puzzles) > 0:\n",
    "            raise Exception(\"Puzzles already generated\")\n",
    "\n",
    "        for i in range(0, 2 ** N):\n",
    "            id = rand_hex(20)\n",
    "            aes_key = get_random_bytes(16).hex()\n",
    "\n",
    "            guess_key_len = N // 4\n",
    "            key = KEY_PREFIX[guess_key_len:] + rand_hex(guess_key_len)\n",
    "\n",
    "            message = f\"id: {id} aes_key: {aes_key}\"\n",
    "\n",
    "            cipher = AES.new(bytearray.fromhex(key), AES.MODE_GCM)\n",
    "            puzzle, tag = cipher.encrypt_and_digest(message.encode('utf-8'))\n",
    "\n",
    "            self.puzzles[id] = {\n",
    "                \"aes_key\": aes_key,\n",
    "                \"puzzle\": puzzle,\n",
    "                \"nonce\": cipher.nonce\n",
    "            }\n",
    "\n",
    "    def get_puzzles(self):\n",
    "        return [(p[\"puzzle\"], p[\"nonce\"]) for p in self.puzzles.values()]\n",
    "    \n",
    "    def receive_puzzle_id(self, id):\n",
    "        if self.aes_key is not None:\n",
    "            raise Exception(\"Puzzle ID already received\")\n",
    "        \n",
    "        self.aes_key = bytearray.fromhex(self.puzzles[id][\"aes_key\"])\n",
    "    \n",
    "    def encrypt(self, m):\n",
    "        cipher = AES.new(self.aes_key, AES.MODE_GCM)\n",
    "        ciphertext, tag = cipher.encrypt_and_digest(m)\n",
    "        return ciphertext, tag, cipher.nonce\n",
    "       \n"
   ]
  },
  {
   "cell_type": "code",
   "execution_count": 74,
   "id": "b043da30",
   "metadata": {},
   "outputs": [],
   "source": [
    "import re\n",
    "\n",
    "class Bob:\n",
    "    def __init__(self):\n",
    "        self.aes_key = None\n",
    "    \n",
    "    def solve_rand_puzzle(self, N, puzzles):\n",
    "        idx = random.randint(1, len(puzzles)) - 1\n",
    "        print(\"Puzzle index \", idx)\n",
    "        puzzle, nonce = puzzles[idx]\n",
    "        pattern = re.compile(\"id: (.*) aes_key: ([0123456789abcdef]*)\")\n",
    "        key_len = N // 4\n",
    "\n",
    "        for i in range(int('F' * key_len, 16), 0, -1):\n",
    "            key = KEY_PREFIX[key_len:] + hex(i)[2:].rjust(key_len, '0')\n",
    "            cipher = AES.new(bytearray.fromhex(key), AES.MODE_GCM, nonce=nonce)\n",
    "\n",
    "            try:\n",
    "                plaintext = cipher.decrypt(puzzle).decode('utf-8')\n",
    "                print(plaintext)\n",
    "                matches = [(g.group(1), g.group(2)) for g in pattern.finditer(plaintext)]\n",
    "\n",
    "                if len(matches) > 0:\n",
    "                    self.aes_key = bytearray.fromhex(matches[0][1])\n",
    "                    return matches[0][0]\n",
    "            except:\n",
    "                pass\n",
    "\n",
    "        raise Exception(\"Unable to solve a puzzle\")\n",
    "    \n",
    "    def decrypt(self, ciphertext, tag, nonce):\n",
    "        cipher = AES.new(self.aes_key, AES.MODE_GCM, nonce=nonce)\n",
    "        plaintext = cipher.decrypt(ciphertext)\n",
    "\n",
    "        try:\n",
    "            cipher.verify(tag)\n",
    "            return plaintext\n",
    "        except ValueError:\n",
    "            raise Exception(\"Key incorrect or message corrupted\")\n"
   ]
  },
  {
   "cell_type": "code",
   "execution_count": 80,
   "id": "e968a1e1",
   "metadata": {},
   "outputs": [],
   "source": [
    "N = 16"
   ]
  },
  {
   "cell_type": "code",
   "execution_count": 81,
   "id": "f0bd2a93",
   "metadata": {
    "scrolled": true
   },
   "outputs": [
    {
     "name": "stdout",
     "output_type": "stream",
     "text": [
      "CPU times: user 3.08 s, sys: 45.7 ms, total: 3.12 s\n",
      "Wall time: 3.13 s\n"
     ]
    }
   ],
   "source": [
    "%%time\n",
    "alice = Alice()\n",
    "puzzles = alice.gen_puzzles(N)"
   ]
  },
  {
   "cell_type": "code",
   "execution_count": 82,
   "id": "7217d2e7",
   "metadata": {
    "scrolled": true
   },
   "outputs": [
    {
     "name": "stdout",
     "output_type": "stream",
     "text": [
      "Puzzle index  31783\n",
      "id: 78A2F1F7197894603EAC aes_key: 302cc03ef76a54b28bc18d7d6ca8948a\n",
      "CPU times: user 2.37 s, sys: 15.4 ms, total: 2.39 s\n",
      "Wall time: 2.39 s\n"
     ]
    }
   ],
   "source": [
    "%%time\n",
    "bob = Bob()\n",
    "puzzle_id = bob.solve_rand_puzzle(N, alice.get_puzzles())"
   ]
  },
  {
   "cell_type": "code",
   "execution_count": 83,
   "id": "7649f270",
   "metadata": {},
   "outputs": [],
   "source": [
    "alice.receive_puzzle_id(puzzle_id)"
   ]
  },
  {
   "cell_type": "code",
   "execution_count": 84,
   "id": "d77efea6",
   "metadata": {},
   "outputs": [
    {
     "name": "stdout",
     "output_type": "stream",
     "text": [
      "Ciphertext  b'Q<\\xe3\\x99\\xc7o'\n",
      "Decrypted  b'Hi Bob'\n"
     ]
    }
   ],
   "source": [
    "m = \"Hi Bob\"\n",
    "\n",
    "c, tag, nonce = alice.encrypt(m.encode('utf-8'))\n",
    "print(\"Ciphertext \", c)\n",
    "print(\"Decrypted \", bob.decrypt(c, tag, nonce))"
   ]
  },
  {
   "cell_type": "code",
   "execution_count": null,
   "id": "262edef1",
   "metadata": {},
   "outputs": [],
   "source": []
  }
 ],
 "metadata": {
  "kernelspec": {
   "display_name": "Python 3 (ipykernel)",
   "language": "python",
   "name": "python3"
  },
  "language_info": {
   "codemirror_mode": {
    "name": "ipython",
    "version": 3
   },
   "file_extension": ".py",
   "mimetype": "text/x-python",
   "name": "python",
   "nbconvert_exporter": "python",
   "pygments_lexer": "ipython3",
   "version": "3.9.10"
  }
 },
 "nbformat": 4,
 "nbformat_minor": 5
}
