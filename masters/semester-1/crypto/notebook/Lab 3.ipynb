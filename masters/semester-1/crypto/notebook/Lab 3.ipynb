{
 "cells": [
  {
   "cell_type": "code",
   "execution_count": 1,
   "id": "5beb73ab",
   "metadata": {},
   "outputs": [],
   "source": [
    "import random\n",
    "import string\n",
    "\n",
    "def rand_str(chars):\n",
    "    return ''.join(random.choices(string.ascii_uppercase, k = chars))\n",
    "\n",
    "def rand_bits(l):\n",
    "    return \"{0:b}\".format(random.getrandbits(l)).rjust(l, '0')\n",
    "\n",
    "def xor_str(key, s):\n",
    "    if len(key) < len(s):\n",
    "        key = key * (len(s) // len(key) + 1)\n",
    "\n",
    "    return ''.join([chr(ord(a) ^ ord(b)) for a, b in zip(key, s)])"
   ]
  },
  {
   "cell_type": "code",
   "execution_count": 2,
   "id": "79bcec48",
   "metadata": {},
   "outputs": [],
   "source": [
    "from Crypto.Cipher import AES\n",
    "from Crypto.Random import get_random_bytes\n",
    "import random\n",
    "import hashlib\n",
    "\n",
    "KEY_LEN = 20\n",
    "\n",
    "class Alice:\n",
    "    def __init__(self, N):\n",
    "        self.N = N\n",
    "        self.puzzles = {}\n",
    "        self.aes_key = None\n",
    "\n",
    "    def gen_puzzles(self):\n",
    "        if len(self.puzzles) > 0:\n",
    "            raise \"Puzzles already generated\"\n",
    "\n",
    "        while len(self.puzzles) < self.N:\n",
    "            id = rand_str(20)\n",
    "            aes_key = get_random_bytes(16).hex()\n",
    "\n",
    "            message = f\" id: {id} aes_key: {aes_key}\"\n",
    "            message += f\" hash: {hashlib.sha256(message.encode('utf-8')).hexdigest()} \"\n",
    "            key = rand_bits(KEY_LEN)\n",
    "\n",
    "            self.puzzles[id] = {\n",
    "                \"aes_key\": aes_key,\n",
    "                \"puzzle\": xor_str(key, message)\n",
    "            }\n",
    "\n",
    "    def get_puzzles(self):\n",
    "        return [p[\"puzzle\"] for p in self.puzzles.values()]\n",
    "    \n",
    "    def receive_puzzle_id(self, id):\n",
    "        if self.aes_key is not None:\n",
    "            raise Exception(\"Puzzle ID already received\")\n",
    "        \n",
    "        self.aes_key = bytearray.fromhex(self.puzzles[id][\"aes_key\"])\n",
    "    \n",
    "    def encrypt(self, m):\n",
    "        cipher = AES.new(self.aes_key, AES.MODE_GCM)\n",
    "        ciphertext, tag = cipher.encrypt_and_digest(m)\n",
    "        return ciphertext, tag, cipher.nonce\n",
    "       \n"
   ]
  },
  {
   "cell_type": "code",
   "execution_count": 3,
   "id": "b043da30",
   "metadata": {},
   "outputs": [],
   "source": [
    "import re\n",
    "\n",
    "class Bob:\n",
    "    def __init__(self):\n",
    "        self.aes_key = None\n",
    "    \n",
    "    def solve_rand_puzzle(self, puzzles):\n",
    "        idx = random.randint(1, len(puzzles)) - 1\n",
    "        print(\"Puzzle index \", idx)\n",
    "        puzzle = puzzles[idx]\n",
    "        pattern = re.compile(\"( id: ([A-Z]*) aes_key: ([0123456789abcdef]*)) hash: ([0123456789abcdef]*) \")\n",
    "\n",
    "        for i in range(2 ** KEY_LEN, 0, -1):\n",
    "            key = \"{0:b}\".format(i).rjust(KEY_LEN, '0')\n",
    "            s = xor_str(key, puzzle)\n",
    "\n",
    "            matches = [(g.group(1), g.group(2), g.group(3), g.group(4)) for g in pattern.finditer(s)]\n",
    "\n",
    "            if len(matches) > 0:\n",
    "                if hashlib.sha256(matches[0][0].encode('utf-8')).hexdigest() == matches[0][3]:\n",
    "                    self.aes_key = bytearray.fromhex(matches[0][2])\n",
    "                    return matches[0][1]\n",
    "\n",
    "        raise Exception(\"Unable to solve a puzzle\")\n",
    "    \n",
    "    def decrypt(self, ciphertext, tag, nonce):\n",
    "        cipher = AES.new(self.aes_key, AES.MODE_GCM, nonce=nonce)\n",
    "        plaintext = cipher.decrypt(ciphertext)\n",
    "\n",
    "        try:\n",
    "            cipher.verify(tag)\n",
    "            return plaintext\n",
    "        except ValueError:\n",
    "            raise Exception(\"Key incorrect or message corrupted\")\n"
   ]
  },
  {
   "cell_type": "code",
   "execution_count": 4,
   "id": "f0bd2a93",
   "metadata": {
    "scrolled": true
   },
   "outputs": [
    {
     "name": "stdout",
     "output_type": "stream",
     "text": [
      "CPU times: user 4min 56s, sys: 24.5 s, total: 5min 20s\n",
      "Wall time: 5min 21s\n"
     ]
    }
   ],
   "source": [
    "%%time\n",
    "alice = Alice(2 ** 24)\n",
    "puzzles = alice.gen_puzzles()"
   ]
  },
  {
   "cell_type": "code",
   "execution_count": 5,
   "id": "7217d2e7",
   "metadata": {
    "scrolled": true
   },
   "outputs": [
    {
     "name": "stdout",
     "output_type": "stream",
     "text": [
      "Puzzle index  15165906\n",
      "CPU times: user 6.86 s, sys: 53 ms, total: 6.92 s\n",
      "Wall time: 6.92 s\n"
     ]
    }
   ],
   "source": [
    "%%time\n",
    "bob = Bob()\n",
    "puzzle_id = bob.solve_rand_puzzle(alice.get_puzzles())"
   ]
  },
  {
   "cell_type": "code",
   "execution_count": 6,
   "id": "7649f270",
   "metadata": {},
   "outputs": [],
   "source": [
    "alice.receive_puzzle_id(puzzle_id)"
   ]
  },
  {
   "cell_type": "code",
   "execution_count": 13,
   "id": "d77efea6",
   "metadata": {},
   "outputs": [
    {
     "name": "stdout",
     "output_type": "stream",
     "text": [
      "Ciphertext  b'Q\\xff\\xa0\\x0f\\xe2\\x9f'\n",
      "Decrypted  b'Hi Bob'\n"
     ]
    }
   ],
   "source": [
    "m = \"Hi Bob\"\n",
    "\n",
    "c, tag, nonce = alice.encrypt(m.encode('utf-8'))\n",
    "print(\"Ciphertext \", c)\n",
    "print(\"Decrypted \", bob.decrypt(c, tag, nonce))"
   ]
  }
 ],
 "metadata": {
  "kernelspec": {
   "display_name": "Python 3 (ipykernel)",
   "language": "python",
   "name": "python3"
  },
  "language_info": {
   "codemirror_mode": {
    "name": "ipython",
    "version": 3
   },
   "file_extension": ".py",
   "mimetype": "text/x-python",
   "name": "python",
   "nbconvert_exporter": "python",
   "pygments_lexer": "ipython3",
   "version": "3.10.1"
  }
 },
 "nbformat": 4,
 "nbformat_minor": 5
}
