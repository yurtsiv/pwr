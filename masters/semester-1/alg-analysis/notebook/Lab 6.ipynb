{
 "cells": [
  {
   "cell_type": "markdown",
   "id": "7db71e5b",
   "metadata": {},
   "source": [
    "## Zadanie 12"
   ]
  },
  {
   "cell_type": "code",
   "execution_count": 3,
   "id": "223a7d9d",
   "metadata": {},
   "outputs": [],
   "source": [
    "import numpy as np"
   ]
  },
  {
   "cell_type": "code",
   "execution_count": 192,
   "id": "a3f48530",
   "metadata": {},
   "outputs": [],
   "source": [
    "P1 = np.array([\n",
    "    [1,0,0,0,0,0],\n",
    "    [0,0,1/2,0,1/2,0],\n",
    "    [1,0,0,0,0,0],\n",
    "    [0,1/2,0,0,1/2,0],\n",
    "    [0,0,0,1,0,0],\n",
    "    [0,0,1,0,0,0]\n",
    "])\n",
    "\n",
    "alphas = [0, 0.15, 0.5, 1]"
   ]
  },
  {
   "cell_type": "code",
   "execution_count": 193,
   "id": "a97f1d95",
   "metadata": {},
   "outputs": [],
   "source": [
    "def find_stationary_distribution(M, iterations = 100000):\n",
    "    n, _ = M.shape\n",
    "    pi = np.matrix([1/n] * n)\n",
    "    for _ in range(iterations):\n",
    "        pi = pi * M\n",
    "\n",
    "    return pi"
   ]
  },
  {
   "cell_type": "code",
   "execution_count": 194,
   "id": "ab57b71b",
   "metadata": {},
   "outputs": [],
   "source": [
    "def get_google_matrix(P, alpha):\n",
    "    n, _ = P.shape\n",
    "    J = np.ones((n, n))\n",
    "    return (1 - alpha) * P + alpha * 1 / n * J"
   ]
  },
  {
   "cell_type": "code",
   "execution_count": 195,
   "id": "dcf989a2",
   "metadata": {},
   "outputs": [
    {
     "name": "stdout",
     "output_type": "stream",
     "text": [
      "\n",
      "Alpha: 0, Distribution: [[1. 0. 0. 0. 0. 0.]], Sum: 0.9999999999999979\n",
      "\n",
      "Alpha: 0.15, Distribution: [[0.60557102 0.07342049 0.07745371 0.11393057 0.1046242  0.025     ]], Sum: 0.9999999999999984\n",
      "\n",
      "Alpha: 0.5, Distribution: [[0.32253086 0.12345679 0.1558642  0.16049383 0.15432099 0.08333333]], Sum: 0.9999999999999987\n",
      "\n",
      "Alpha: 1, Distribution: [[0.16666667 0.16666667 0.16666667 0.16666667 0.16666667 0.16666667]], Sum: 0.9999999999999998\n"
     ]
    }
   ],
   "source": [
    "for alpha in alphas:\n",
    "    pi = find_stationary_distribution(get_google_matrix(P, alpha))\n",
    "    print(f\"\\nAlpha: {alpha}, Distribution: {pi}, Sum: {pi.sum()}\")"
   ]
  },
  {
   "cell_type": "markdown",
   "id": "faa5b063",
   "metadata": {},
   "source": [
    "## Zadanie 13"
   ]
  },
  {
   "cell_type": "code",
   "execution_count": 196,
   "id": "ffc843e1",
   "metadata": {},
   "outputs": [],
   "source": [
    "P2 = np.matrix([\n",
    "    [0, 3/10, 1/10, 3/5],\n",
    "    [1/10, 1/10, 7/10, 1/10],\n",
    "    [1/10, 7/10, 1/10, 1/10],\n",
    "    [9/10, 1/10, 0, 0]\n",
    "])"
   ]
  },
  {
   "cell_type": "markdown",
   "id": "d7fdc7e0",
   "metadata": {},
   "source": [
    "## a"
   ]
  },
  {
   "cell_type": "code",
   "execution_count": 197,
   "id": "665da3ff",
   "metadata": {},
   "outputs": [
    {
     "name": "stdout",
     "output_type": "stream",
     "text": [
      "[[0.2345679  0.30478395 0.26311728 0.19753086]]\n"
     ]
    }
   ],
   "source": [
    "pi = find_stationary_distribution(P2)\n",
    "print(pi)"
   ]
  },
  {
   "cell_type": "markdown",
   "id": "f5da68d1",
   "metadata": {},
   "source": [
    "## b"
   ]
  },
  {
   "cell_type": "code",
   "execution_count": 198,
   "id": "6a5c2135",
   "metadata": {},
   "outputs": [
    {
     "data": {
      "text/plain": [
       "0.19751196284620998"
      ]
     },
     "execution_count": 198,
     "metadata": {},
     "output_type": "execute_result"
    }
   ],
   "source": [
    "np.linalg.matrix_power(P2, 32).item(0, 3)"
   ]
  },
  {
   "cell_type": "markdown",
   "id": "8e87fa21",
   "metadata": {},
   "source": [
    "## c"
   ]
  },
  {
   "cell_type": "code",
   "execution_count": 199,
   "id": "b7fd6c04",
   "metadata": {},
   "outputs": [
    {
     "data": {
      "text/plain": [
       "0.1975308641975304"
      ]
     },
     "execution_count": 199,
     "metadata": {},
     "output_type": "execute_result"
    }
   ],
   "source": [
    "np.matmul([1/4] * 4, np.linalg.matrix_power(P2, 128)).item(0, 3)"
   ]
  },
  {
   "cell_type": "markdown",
   "id": "f95827bf",
   "metadata": {},
   "source": [
    "## d"
   ]
  },
  {
   "cell_type": "code",
   "execution_count": 200,
   "id": "f0d0806d",
   "metadata": {},
   "outputs": [],
   "source": [
    "epsilons = [1/10,1/100,1/1000]"
   ]
  },
  {
   "cell_type": "code",
   "execution_count": 201,
   "id": "eb3960ad",
   "metadata": {},
   "outputs": [],
   "source": [
    "results = []\n",
    "\n",
    "for epsilon in epsilons:\n",
    "    t = 0\n",
    "    while True:\n",
    "        p_0_s = np.linalg.matrix_power(P2, t)[0]\n",
    "\n",
    "        if np.max(np.abs(p_0_s - pi)) <= epsilon:\n",
    "            results.append(t)\n",
    "            break\n",
    "\n",
    "        t += 1"
   ]
  },
  {
   "cell_type": "code",
   "execution_count": 202,
   "id": "392f93d1",
   "metadata": {},
   "outputs": [
    {
     "data": {
      "text/plain": [
       "[5, 13, 21]"
      ]
     },
     "execution_count": 202,
     "metadata": {},
     "output_type": "execute_result"
    }
   ],
   "source": [
    "results"
   ]
  }
 ],
 "metadata": {
  "kernelspec": {
   "display_name": "Python 3 (ipykernel)",
   "language": "python",
   "name": "python3"
  },
  "language_info": {
   "codemirror_mode": {
    "name": "ipython",
    "version": 3
   },
   "file_extension": ".py",
   "mimetype": "text/x-python",
   "name": "python",
   "nbconvert_exporter": "python",
   "pygments_lexer": "ipython3",
   "version": "3.9.13"
  }
 },
 "nbformat": 4,
 "nbformat_minor": 5
}
