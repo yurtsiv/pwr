{
 "cells": [
  {
   "cell_type": "code",
   "execution_count": 74,
   "id": "11e9a8eb",
   "metadata": {
    "scrolled": true
   },
   "outputs": [
    {
     "name": "stdout",
     "output_type": "stream",
     "text": [
      "0 0\n",
      "1000 1000\n",
      "2000 2000\n",
      "3000 3000\n",
      "4000 4000\n",
      "5000 5000\n",
      "6000 6000\n",
      "7000 7000\n",
      "5 24\n"
     ]
    }
   ],
   "source": [
    "import itertools\n",
    "\n",
    "def to_str(conf):\n",
    "    return ''.join([str(i) for i in conf])\n",
    "\n",
    "def get_procs_with_access(conf):\n",
    "    have_access = []\n",
    "    \n",
    "    if conf[0] == conf[-1]:\n",
    "        have_access.append(0)\n",
    "\n",
    "    for i in range(1, len(conf)):\n",
    "        if conf[i] != conf[i-1]:\n",
    "            have_access.append(i)\n",
    "\n",
    "    return have_access\n",
    "\n",
    "cache = {}\n",
    "\n",
    "def simulate(conf, steps):\n",
    "    s = to_str(conf)\n",
    "    if cache.get(s):\n",
    "        return cache[s]\n",
    "\n",
    "    n = len(conf)\n",
    "    procs = get_procs_with_access(conf)\n",
    "    \n",
    "    if len(procs) <= 1:\n",
    "        return steps\n",
    "\n",
    "    max_steps = steps\n",
    "\n",
    "    for proc in procs:\n",
    "        conf_copy = conf.copy()\n",
    "\n",
    "        if proc == 0:\n",
    "            conf_copy[0] = (conf[0] + 1) % (n + 1)\n",
    "            max_steps = max(max_steps, simulate(conf_copy, steps + 1))\n",
    "        else:\n",
    "            conf_copy[proc] = conf[proc - 1]\n",
    "            max_steps = max(max_steps, simulate(conf_copy, steps + 1))\n",
    "\n",
    "    return max_steps\n",
    "\n",
    "def experiment(n):\n",
    "    max_steps = 0\n",
    "    combinations = itertools.product(*([list(range(0, n + 1))] * n))\n",
    "    for i, conf in enumerate(combinations):\n",
    "        if i % 1000 == 0:\n",
    "            print(i, len(cache))\n",
    "\n",
    "        max_steps = max(max_steps, simulate(list(conf), 0))\n",
    "        cache[to_str(conf)] = max_steps\n",
    "\n",
    "    print(n, max_steps)\n",
    "\n",
    "experiment(5)"
   ]
  },
  {
   "cell_type": "code",
   "execution_count": null,
   "id": "038edfac",
   "metadata": {},
   "outputs": [],
   "source": []
  },
  {
   "cell_type": "code",
   "execution_count": null,
   "id": "473762d6",
   "metadata": {},
   "outputs": [],
   "source": []
  }
 ],
 "metadata": {
  "kernelspec": {
   "display_name": "Python 3 (ipykernel)",
   "language": "python",
   "name": "python3"
  },
  "language_info": {
   "codemirror_mode": {
    "name": "ipython",
    "version": 3
   },
   "file_extension": ".py",
   "mimetype": "text/x-python",
   "name": "python",
   "nbconvert_exporter": "python",
   "pygments_lexer": "ipython3",
   "version": "3.9.12"
  }
 },
 "nbformat": 4,
 "nbformat_minor": 5
}
