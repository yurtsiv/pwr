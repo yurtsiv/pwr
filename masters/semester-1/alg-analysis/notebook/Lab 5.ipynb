{
 "cells": [
  {
   "cell_type": "markdown",
   "id": "2f4eaeee",
   "metadata": {},
   "source": [
    "## 1"
   ]
  },
  {
   "cell_type": "code",
   "execution_count": 5,
   "id": "11e9a8eb",
   "metadata": {
    "scrolled": false
   },
   "outputs": [],
   "source": [
    "import itertools\n",
    "\n",
    "def to_str(conf):\n",
    "    return ''.join([str(i) for i in conf])\n",
    "\n",
    "def get_procs_with_access(conf):\n",
    "    have_access = []\n",
    "    \n",
    "    if conf[0] == conf[-1]:\n",
    "        have_access.append(0)\n",
    "\n",
    "    for i in range(1, len(conf)):\n",
    "        if conf[i] != conf[i-1]:\n",
    "            have_access.append(i)\n",
    "\n",
    "    return have_access\n",
    "\n",
    "cache = {}\n",
    "\n",
    "def simulate1(conf, steps):\n",
    "    s = to_str(conf)\n",
    "    if cache.get(s):\n",
    "        return cache[s]\n",
    "\n",
    "    n = len(conf)\n",
    "    procs = get_procs_with_access(conf)\n",
    "    \n",
    "    if len(procs) <= 1:\n",
    "        return steps\n",
    "\n",
    "    max_steps = steps\n",
    "\n",
    "    for proc in procs:\n",
    "        conf_copy = conf.copy()\n",
    "\n",
    "        if proc == 0:\n",
    "            conf_copy[0] = (conf[0] + 1) % (n + 1)\n",
    "            max_steps = max(max_steps, simulate(conf_copy, steps + 1))\n",
    "        else:\n",
    "            conf_copy[proc] = conf[proc - 1]\n",
    "            max_steps = max(max_steps, simulate(conf_copy, steps + 1))\n",
    "\n",
    "    return max_steps\n",
    "\n",
    "def experiment1(n):\n",
    "    max_steps = 0\n",
    "    combinations = itertools.product(*([list(range(0, n + 1))] * n))\n",
    "    for i, conf in enumerate(combinations):\n",
    "        if i % 1000 == 0:\n",
    "            print(i, len(cache))\n",
    "\n",
    "        max_steps = max(max_steps, simulate(list(conf), 0))\n",
    "        cache[to_str(conf)] = max_steps\n",
    "\n",
    "    print(n, max_steps)\n",
    "\n",
    "# experiment(6)"
   ]
  },
  {
   "cell_type": "markdown",
   "id": "0bc5f672",
   "metadata": {},
   "source": [
    "## 2"
   ]
  },
  {
   "cell_type": "markdown",
   "id": "f949ec77",
   "metadata": {},
   "source": [
    "### Algorithm\n",
    "\n",
    "```\n",
    "selected = False\n",
    "\n",
    "do forever:\n",
    "  if some nieghbour selected:\n",
    "     seleted = False\n",
    "  \n",
    "  if no neighbour seleted:\n",
    "     selected = True\n",
    "```\n",
    "\n",
    "### Specification S\n",
    "\n",
    "If $p$ is selected - all neighbours should not be selected\n",
    "\n",
    "If $p$ is not selected - a single neighbour should be selected"
   ]
  },
  {
   "cell_type": "code",
   "execution_count": 6,
   "id": "7c8e206d",
   "metadata": {},
   "outputs": [],
   "source": [
    "def is_valid_conf(adj, conf):\n",
    "    for i, neighs in enumerate(adj):\n",
    "        if conf[i] and any(map(lambda n: conf[n], adj[i])):\n",
    "            return False\n",
    "        \n",
    "        if not conf[i] and all(map(lambda n: not conf[n], adj[i])):\n",
    "            return False\n",
    "\n",
    "    return True"
   ]
  },
  {
   "cell_type": "code",
   "execution_count": 7,
   "id": "b0e5d47d",
   "metadata": {},
   "outputs": [],
   "source": [
    "def simulate2(adj, conf):\n",
    "    conf = conf.copy()\n",
    "    n = len(conf)\n",
    "    steps = 0\n",
    "    curr_p = 0\n",
    "\n",
    "    while not is_valid_conf(adj, conf):\n",
    "        neighs = adj[curr_p]\n",
    "\n",
    "        if any(map(lambda n: conf[n], neighs)):\n",
    "            steps += 1\n",
    "            conf[curr_p] = 0\n",
    "        \n",
    "        if all(map(lambda n: not conf[n], neighs)):\n",
    "            steps += 1\n",
    "            conf[curr_p] = 1\n",
    "\n",
    "        curr_p = (curr_p + 1) % n\n",
    "\n",
    "    return steps, conf\n",
    "\n",
    "def experiment2(adj):\n",
    "    n = len(adj)\n",
    "    max_steps = 0\n",
    "    combinations = itertools.product(*([[0, 1]] * n))\n",
    "\n",
    "    for i, conf in enumerate(combinations):\n",
    "        max_steps = max(max_steps, simulate2(adj, list(conf))[0])\n",
    "    \n",
    "    return max_steps"
   ]
  },
  {
   "cell_type": "code",
   "execution_count": 8,
   "id": "fcb53ef5",
   "metadata": {},
   "outputs": [],
   "source": [
    "#         5\n",
    "#         |\n",
    "# 0 - 1 - 4 - 2\n",
    "#          \\  /\n",
    "#           3\n",
    "\n",
    "example_adj = [[1], [0, 4], [4, 3], [2, 4], [1, 2, 3, 5], [4]]"
   ]
  },
  {
   "cell_type": "code",
   "execution_count": 9,
   "id": "b271857e",
   "metadata": {},
   "outputs": [
    {
     "data": {
      "text/plain": [
       "(6, [1, 0, 1, 0, 0, 1])"
      ]
     },
     "execution_count": 9,
     "metadata": {},
     "output_type": "execute_result"
    }
   ],
   "source": [
    "simulate2(example_adj, [0,0,0,0,0,0])"
   ]
  },
  {
   "cell_type": "code",
   "execution_count": 10,
   "id": "6af32b8d",
   "metadata": {},
   "outputs": [
    {
     "data": {
      "text/plain": [
       "9"
      ]
     },
     "execution_count": 10,
     "metadata": {},
     "output_type": "execute_result"
    }
   ],
   "source": [
    "experiment2(example_adj)"
   ]
  },
  {
   "cell_type": "code",
   "execution_count": null,
   "id": "123bd699",
   "metadata": {},
   "outputs": [],
   "source": []
  }
 ],
 "metadata": {
  "kernelspec": {
   "display_name": "Python 3 (ipykernel)",
   "language": "python",
   "name": "python3"
  },
  "language_info": {
   "codemirror_mode": {
    "name": "ipython",
    "version": 3
   },
   "file_extension": ".py",
   "mimetype": "text/x-python",
   "name": "python",
   "nbconvert_exporter": "python",
   "pygments_lexer": "ipython3",
   "version": "3.9.13"
  }
 },
 "nbformat": 4,
 "nbformat_minor": 5
}
