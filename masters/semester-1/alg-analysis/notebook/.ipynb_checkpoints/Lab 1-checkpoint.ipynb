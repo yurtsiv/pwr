{
 "cells": [
  {
   "cell_type": "markdown",
   "id": "cbc52ded",
   "metadata": {},
   "source": [
    "# Zadanie 1"
   ]
  },
  {
   "cell_type": "code",
   "execution_count": 114,
   "id": "0c85f3f7",
   "metadata": {},
   "outputs": [],
   "source": [
    "from random import random\n",
    "import math\n",
    "import matplotlib as mpl\n",
    "import matplotlib.pyplot as plt\n",
    "import numpy as np\n",
    "\n",
    "def sim1(n):\n",
    "    i = 0\n",
    "    p = 1 / n\n",
    "\n",
    "    while True:\n",
    "        sent = 0\n",
    "        for j in range(n):\n",
    "            sent += 1 if random() <= p else 0\n",
    "\n",
    "        i += 1\n",
    "        if sent == 1:\n",
    "            return i\n",
    "\n",
    "def sim2(n, u):\n",
    "    i = 0\n",
    "    L = math.ceil(math.log2(u))\n",
    "    while True:\n",
    "        for j in range(L):\n",
    "            sent = 0\n",
    "            for k in range(n):\n",
    "                p = 1/2 ** j\n",
    "                sent += 1 if random() <= p else 0\n",
    "\n",
    "            i += 1\n",
    "            if sent == 1:\n",
    "                return i\n",
    "            "
   ]
  },
  {
   "cell_type": "code",
   "execution_count": 55,
   "id": "f7311979",
   "metadata": {},
   "outputs": [],
   "source": [
    "experiments = 1000"
   ]
  },
  {
   "cell_type": "markdown",
   "id": "3eca9a16",
   "metadata": {},
   "source": [
    "# Zadanie 2"
   ]
  },
  {
   "cell_type": "markdown",
   "id": "456aede7",
   "metadata": {},
   "source": [
    "## Dla znananego `n = 10`"
   ]
  },
  {
   "cell_type": "code",
   "execution_count": 70,
   "id": "6649f5e4",
   "metadata": {
    "scrolled": true
   },
   "outputs": [
    {
     "data": {
      "text/plain": [
       "<BarContainer object of 15 artists>"
      ]
     },
     "execution_count": 70,
     "metadata": {},
     "output_type": "execute_result"
    },
    {
     "data": {
      "image/png": "[encoded data removed]",
      "text/plain": [
       "<Figure size 432x288 with 1 Axes>"
      ]
     },
     "metadata": {
      "needs_background": "light"
     },
     "output_type": "display_data"
    }
   ],
   "source": [
    "res = [sim1(10) for i in range(experiments)]\n",
    "plt.bar(*np.unique(res, return_counts=True))"
   ]
  },
  {
   "cell_type": "markdown",
   "id": "ad935228",
   "metadata": {},
   "source": [
    "## Dla `u = 10`, `n = 2`"
   ]
  },
  {
   "cell_type": "code",
   "execution_count": 115,
   "id": "3d26feec",
   "metadata": {
    "scrolled": true
   },
   "outputs": [
    {
     "data": {
      "text/plain": [
       "<BarContainer object of 15 artists>"
      ]
     },
     "execution_count": 115,
     "metadata": {},
     "output_type": "execute_result"
    },
    {
     "data": {
      "image/png": "[encoded data removed]",
      "text/plain": [
       "<Figure size 432x288 with 1 Axes>"
      ]
     },
     "metadata": {
      "needs_background": "light"
     },
     "output_type": "display_data"
    }
   ],
   "source": [
    "res = [sim2(2, 10) for i in range(experiments)]\n",
    "plt.bar(*np.unique(res, return_counts=True))"
   ]
  },
  {
   "cell_type": "markdown",
   "id": "d3dd3331",
   "metadata": {},
   "source": [
    "## Dla `u = 10`, n = `u / 2`"
   ]
  },
  {
   "cell_type": "code",
   "execution_count": 116,
   "id": "904dbb9d",
   "metadata": {
    "scrolled": true
   },
   "outputs": [
    {
     "data": {
      "text/plain": [
       "<BarContainer object of 17 artists>"
      ]
     },
     "execution_count": 116,
     "metadata": {},
     "output_type": "execute_result"
    },
    {
     "data": {
      "image/png": "[encoded data removed]",
      "text/plain": [
       "<Figure size 432x288 with 1 Axes>"
      ]
     },
     "metadata": {
      "needs_background": "light"
     },
     "output_type": "display_data"
    }
   ],
   "source": [
    "res = [sim2(5, 10) for i in range(experiments)]\n",
    "plt.bar(*np.unique(res, return_counts=True))"
   ]
  },
  {
   "cell_type": "markdown",
   "id": "3e0abb80",
   "metadata": {},
   "source": [
    "## Dla `u = 10`, `n = u`"
   ]
  },
  {
   "cell_type": "code",
   "execution_count": 117,
   "id": "960f0421",
   "metadata": {
    "scrolled": false
   },
   "outputs": [
    {
     "data": {
      "text/plain": [
       "<BarContainer object of 16 artists>"
      ]
     },
     "execution_count": 117,
     "metadata": {},
     "output_type": "execute_result"
    },
    {
     "data": {
      "image/png": "[encoded data removed]",
      "text/plain": [
       "<Figure size 432x288 with 1 Axes>"
      ]
     },
     "metadata": {
      "needs_background": "light"
     },
     "output_type": "display_data"
    }
   ],
   "source": [
    "res = [sim2(5, 10) for i in range(experiments)]\n",
    "plt.bar(*np.unique(res, return_counts=True))"
   ]
  },
  {
   "cell_type": "markdown",
   "id": "cbce688c",
   "metadata": {},
   "source": [
    "# Zadanie 3"
   ]
  },
  {
   "cell_type": "code",
   "execution_count": 118,
   "id": "23320d76",
   "metadata": {},
   "outputs": [
    {
     "name": "stdout",
     "output_type": "stream",
     "text": [
      "E= 2.671 V= 0.6492506246246247\n"
     ]
    }
   ],
   "source": [
    "res = [sim1(10) for i in range(experiments)]\n",
    "unique, counts = np.unique(res, return_counts=True)\n",
    "probabilities = [c / experiments for c in counts]\n",
    "\n",
    "E = 0\n",
    "for i in range(len(unique)):\n",
    "    E += unique[i] * probabilities[i]\n",
    "\n",
    "v_numerator = sum([(x - E) ** 2 for x in unique])\n",
    "V = v_numerator / (experiments - 1)\n",
    "\n",
    "print(\"E=\", E, \"V=\", V)"
   ]
  },
  {
   "cell_type": "markdown",
   "id": "d7b61d70",
   "metadata": {},
   "source": [
    "# Zadanie 4"
   ]
  },
  {
   "cell_type": "code",
   "execution_count": 195,
   "id": "e90750b4",
   "metadata": {},
   "outputs": [
    {
     "name": "stdout",
     "output_type": "stream",
     "text": [
      "P[SL,n] = 0.632\n"
     ]
    }
   ],
   "source": [
    "u = 10\n",
    "n = 9\n",
    "L = math.ceil(math.log2(u))\n",
    "\n",
    "succ = 0\n",
    "\n",
    "for _ in range(experiments):\n",
    "    for j  in range(L):\n",
    "        sent = 0\n",
    "        for k in range(n):\n",
    "            p = 1/2 ** j\n",
    "            sent += 1 if random() <= p else 0\n",
    "        \n",
    "        if sent == 1:\n",
    "            succ += 1\n",
    "\n",
    "print(\"P[SL,n] =\", succ / experiments)"
   ]
  }
 ],
 "metadata": {
  "kernelspec": {
   "display_name": "Python 3 (ipykernel)",
   "language": "python",
   "name": "python3"
  },
  "language_info": {
   "codemirror_mode": {
    "name": "ipython",
    "version": 3
   },
   "file_extension": ".py",
   "mimetype": "text/x-python",
   "name": "python",
   "nbconvert_exporter": "python",
   "pygments_lexer": "ipython3",
   "version": "3.10.1"
  }
 },
 "nbformat": 4,
 "nbformat_minor": 5
}
