{
 "cells": [
  {
   "cell_type": "markdown",
   "id": "cbc52ded",
   "metadata": {},
   "source": [
    "# Zadanie 1"
   ]
  },
  {
   "cell_type": "code",
   "execution_count": 229,
   "id": "0c85f3f7",
   "metadata": {},
   "outputs": [],
   "source": [
    "from random import random\n",
    "import math\n",
    "import matplotlib as mpl\n",
    "import matplotlib.pyplot as plt\n",
    "import numpy as np\n",
    "\n",
    "def sim1(n):\n",
    "    i = 0\n",
    "    p = 1 / n\n",
    "\n",
    "    while True:\n",
    "        sent = 0\n",
    "        for j in range(n):\n",
    "            sent += 1 if random() <= p else 0\n",
    "\n",
    "        i += 1\n",
    "        if sent == 1:\n",
    "            return i\n",
    "\n",
    "def sim2(n, u):\n",
    "    i = 0\n",
    "    L = math.ceil(math.log2(u)) + 1\n",
    "\n",
    "    while True:\n",
    "        for j in range(L):\n",
    "            sent = 0\n",
    "            for k in range(n):\n",
    "                p = 1/2 ** j\n",
    "                sent += 1 if random() <= p else 0\n",
    "\n",
    "            i += 1\n",
    "            if sent == 1:\n",
    "                return i\n",
    "            "
   ]
  },
  {
   "cell_type": "code",
   "execution_count": 201,
   "id": "f7311979",
   "metadata": {},
   "outputs": [],
   "source": [
    "experiments = 10000"
   ]
  },
  {
   "cell_type": "markdown",
   "id": "3eca9a16",
   "metadata": {},
   "source": [
    "# Zadanie 2"
   ]
  },
  {
   "cell_type": "markdown",
   "id": "456aede7",
   "metadata": {},
   "source": [
    "## Dla znananego `n = 100`"
   ]
  },
  {
   "cell_type": "code",
   "execution_count": 211,
   "id": "6649f5e4",
   "metadata": {
    "scrolled": true
   },
   "outputs": [
    {
     "data": {
      "text/plain": [
       "<BarContainer object of 18 artists>"
      ]
     },
     "execution_count": 211,
     "metadata": {},
     "output_type": "execute_result"
    },
    {
     "data": {
      "image/png": "[encoded data removed]",
      "text/plain": [
       "<Figure size 432x288 with 1 Axes>"
      ]
     },
     "metadata": {
      "needs_background": "light"
     },
     "output_type": "display_data"
    }
   ],
   "source": [
    "exp = [sim1(100) for i in range(experiments)]\n",
    "u, p = np.unique(res, return_counts=True)\n",
    "plt.bar(u, p)"
   ]
  },
  {
   "cell_type": "markdown",
   "id": "ad935228",
   "metadata": {},
   "source": [
    "## Dla `u = 100`, `n = 2`"
   ]
  },
  {
   "cell_type": "code",
   "execution_count": 212,
   "id": "3d26feec",
   "metadata": {
    "scrolled": true
   },
   "outputs": [
    {
     "name": "stdout",
     "output_type": "stream",
     "text": [
      "[ 2  3  4  5  6  7  8 10 11 12 13 14 15 16 18 19 20 21 22 23 26 27 28 29\n",
      " 34 35 36 38 45 50]\n",
      "[4951 1885  742  280  127   64   33  982  346  128   64   28   16    5\n",
      "  183   68   20   10    4    1   36    8    4    1    4    2    5    1\n",
      "    1    1]\n"
     ]
    },
    {
     "data": {
      "text/plain": [
       "<BarContainer object of 30 artists>"
      ]
     },
     "execution_count": 212,
     "metadata": {},
     "output_type": "execute_result"
    },
    {
     "data": {
      "image/png": "[encoded data removed]",
      "text/plain": [
       "<Figure size 432x288 with 1 Axes>"
      ]
     },
     "metadata": {
      "needs_background": "light"
     },
     "output_type": "display_data"
    }
   ],
   "source": [
    "res = [sim2(2, 100) for i in range(experiments)]\n",
    "u, p = np.unique(res, return_counts=True)\n",
    "print(u)\n",
    "print(p)\n",
    "plt.bar(u, p)"
   ]
  },
  {
   "cell_type": "markdown",
   "id": "d3dd3331",
   "metadata": {},
   "source": [
    "## Dla `u = 100`, n = `u / 2`"
   ]
  },
  {
   "cell_type": "code",
   "execution_count": 204,
   "id": "904dbb9d",
   "metadata": {
    "scrolled": true
   },
   "outputs": [
    {
     "name": "stdout",
     "output_type": "stream",
     "text": [
      "[ 4  5  6  7  8 12 13 14 15 16 20 21 22 23 24 28 29 30 31 32 37 38 39 40\n",
      " 45 46 47 54 61 72]\n",
      "[  85 1325 2887 2057  999   30  359  779  559  259    2   86  176  149\n",
      "   73    1   28   46   41   10    5   14    9    7    5    3    3    1\n",
      "    1    1]\n"
     ]
    },
    {
     "data": {
      "text/plain": [
       "<BarContainer object of 30 artists>"
      ]
     },
     "execution_count": 204,
     "metadata": {},
     "output_type": "execute_result"
    },
    {
     "data": {
      "image/png": "[encoded data removed]",
      "text/plain": [
       "<Figure size 432x288 with 1 Axes>"
      ]
     },
     "metadata": {
      "needs_background": "light"
     },
     "output_type": "display_data"
    }
   ],
   "source": [
    "res = [sim2(50, 100) for i in range(experiments)]\n",
    "u, p = np.unique(res, return_counts=True)\n",
    "print(u)\n",
    "print(p)\n",
    "plt.bar(u, p)"
   ]
  },
  {
   "cell_type": "markdown",
   "id": "3e0abb80",
   "metadata": {},
   "source": [
    "## Dla `u = 100`, `n = u`"
   ]
  },
  {
   "cell_type": "code",
   "execution_count": 213,
   "id": "960f0421",
   "metadata": {
    "scrolled": false
   },
   "outputs": [
    {
     "name": "stdout",
     "output_type": "stream",
     "text": [
      "[ 5  6  7  8 12 13 14 15 16 21 22 23 24 29 30 31 32 37 38 39 40 45 46 47\n",
      " 48 54 55 56 62 63 64 70 79]\n",
      "[ 113 1311 2760 2142    1   31  496 1029  782    9  177  391  297    6\n",
      "   61  121  103    1   25   48   30    2   12   22    9    2    6    3\n",
      "    2    4    1    1    2]\n"
     ]
    },
    {
     "data": {
      "text/plain": [
       "<BarContainer object of 33 artists>"
      ]
     },
     "execution_count": 213,
     "metadata": {},
     "output_type": "execute_result"
    },
    {
     "data": {
      "image/png": "[encoded data removed]",
      "text/plain": [
       "<Figure size 432x288 with 1 Axes>"
      ]
     },
     "metadata": {
      "needs_background": "light"
     },
     "output_type": "display_data"
    }
   ],
   "source": [
    "res = [sim2(100, 100) for i in range(experiments)]\n",
    "u, p = np.unique(res, return_counts=True)\n",
    "print(u)\n",
    "print(p)\n",
    "plt.bar(u, p)"
   ]
  },
  {
   "cell_type": "markdown",
   "id": "cbce688c",
   "metadata": {},
   "source": [
    "# Zadanie 3"
   ]
  },
  {
   "cell_type": "markdown",
   "id": "7dd0b6dd",
   "metadata": {},
   "source": [
    "(1 - 1/n)^(n-1) -> 1/e"
   ]
  },
  {
   "cell_type": "code",
   "execution_count": 228,
   "id": "23320d76",
   "metadata": {},
   "outputs": [
    {
     "name": "stdout",
     "output_type": "stream",
     "text": [
      "E = 2.7322999999999995 V = 4.3481602585856285\n"
     ]
    }
   ],
   "source": [
    "res = [sim1(100) for i in range(experiments)]\n",
    "unique, counts = np.unique(res, return_counts=True)\n",
    "probabilities = [c / experiments for c in counts]\n",
    "\n",
    "E = 0\n",
    "for i in range(len(unique)):\n",
    "    E += unique[i] * probabilities[i]\n",
    "\n",
    "v_numerator = sum([(x - E) ** 2 for x in unique])\n",
    "V = math.sqrt(v_numerator / (100 - 1))\n",
    "\n",
    "print(\"E =\", E, \"V =\", V)"
   ]
  },
  {
   "cell_type": "markdown",
   "id": "d7b61d70",
   "metadata": {},
   "source": [
    "# Zadanie 4"
   ]
  },
  {
   "cell_type": "code",
   "execution_count": 222,
   "id": "e90750b4",
   "metadata": {},
   "outputs": [
    {
     "name": "stdout",
     "output_type": "stream",
     "text": [
      "u = 100 n = 2 p = 0.8061\n",
      "u = 100 n = 3 p = 0.8138\n",
      "u = 100 n = 4 p = 0.813\n",
      "u = 100 n = 5 p = 0.8124\n",
      "u = 100 n = 6 p = 0.8148\n",
      "u = 100 n = 7 p = 0.8044\n",
      "u = 100 n = 8 p = 0.8033\n",
      "u = 100 n = 9 p = 0.8031\n",
      "u = 100 n = 10 p = 0.7982\n",
      "u = 100 n = 11 p = 0.7937\n",
      "u = 100 n = 12 p = 0.7985\n",
      "u = 100 n = 13 p = 0.7938\n",
      "u = 100 n = 14 p = 0.7896\n",
      "u = 100 n = 15 p = 0.7974\n",
      "u = 100 n = 16 p = 0.786\n",
      "u = 100 n = 17 p = 0.7885\n",
      "u = 100 n = 18 p = 0.7872\n",
      "u = 100 n = 19 p = 0.7874\n",
      "u = 100 n = 20 p = 0.7822\n",
      "u = 100 n = 21 p = 0.7818\n",
      "u = 100 n = 22 p = 0.775\n",
      "u = 100 n = 23 p = 0.778\n",
      "u = 100 n = 24 p = 0.7771\n",
      "u = 100 n = 25 p = 0.7746\n",
      "u = 100 n = 26 p = 0.7766\n",
      "u = 100 n = 27 p = 0.7716\n",
      "u = 100 n = 28 p = 0.7675\n",
      "u = 100 n = 29 p = 0.7643\n",
      "u = 100 n = 30 p = 0.7642\n",
      "u = 100 n = 31 p = 0.763\n",
      "u = 100 n = 32 p = 0.7597\n",
      "u = 100 n = 33 p = 0.7732\n",
      "u = 100 n = 34 p = 0.7541\n",
      "u = 100 n = 35 p = 0.765\n",
      "u = 100 n = 36 p = 0.7565\n",
      "u = 100 n = 37 p = 0.7508\n",
      "u = 100 n = 38 p = 0.7514\n",
      "u = 100 n = 39 p = 0.7518\n",
      "u = 100 n = 40 p = 0.7425\n",
      "u = 100 n = 41 p = 0.7532\n",
      "u = 100 n = 42 p = 0.7495\n",
      "u = 100 n = 43 p = 0.7431\n",
      "u = 100 n = 44 p = 0.7322\n",
      "u = 100 n = 45 p = 0.7428\n",
      "u = 100 n = 46 p = 0.7366\n",
      "u = 100 n = 47 p = 0.7336\n",
      "u = 100 n = 48 p = 0.7302\n",
      "u = 100 n = 49 p = 0.7326\n",
      "u = 100 n = 50 p = 0.7272\n",
      "u = 100 n = 51 p = 0.7279\n",
      "u = 100 n = 52 p = 0.7262\n",
      "u = 100 n = 53 p = 0.7169\n",
      "u = 100 n = 54 p = 0.7211\n",
      "u = 100 n = 55 p = 0.7246\n",
      "u = 100 n = 56 p = 0.7199\n",
      "u = 100 n = 57 p = 0.7133\n",
      "u = 100 n = 58 p = 0.7182\n",
      "u = 100 n = 59 p = 0.7106\n",
      "u = 100 n = 60 p = 0.712\n",
      "u = 100 n = 61 p = 0.7122\n",
      "u = 100 n = 62 p = 0.7011\n",
      "u = 100 n = 63 p = 0.7024\n",
      "u = 100 n = 64 p = 0.7048\n",
      "u = 100 n = 65 p = 0.708\n",
      "u = 100 n = 66 p = 0.6993\n",
      "u = 100 n = 67 p = 0.6979\n",
      "u = 100 n = 68 p = 0.6988\n",
      "u = 100 n = 69 p = 0.6977\n",
      "u = 100 n = 70 p = 0.6918\n",
      "u = 100 n = 71 p = 0.6904\n",
      "u = 100 n = 72 p = 0.6921\n",
      "u = 100 n = 73 p = 0.6851\n",
      "u = 100 n = 74 p = 0.6902\n",
      "u = 100 n = 75 p = 0.6729\n",
      "u = 100 n = 76 p = 0.6857\n",
      "u = 100 n = 77 p = 0.6739\n",
      "u = 100 n = 78 p = 0.6724\n",
      "u = 100 n = 79 p = 0.6843\n",
      "u = 100 n = 80 p = 0.6644\n",
      "u = 100 n = 81 p = 0.6702\n",
      "u = 100 n = 82 p = 0.6578\n",
      "u = 100 n = 83 p = 0.6775\n",
      "u = 100 n = 84 p = 0.6719\n",
      "u = 100 n = 85 p = 0.6605\n",
      "u = 100 n = 86 p = 0.6604\n",
      "u = 100 n = 87 p = 0.6523\n",
      "u = 100 n = 88 p = 0.6691\n",
      "u = 100 n = 89 p = 0.6499\n",
      "u = 100 n = 90 p = 0.6538\n",
      "u = 100 n = 91 p = 0.6421\n",
      "u = 100 n = 92 p = 0.6515\n",
      "u = 100 n = 93 p = 0.6495\n",
      "u = 100 n = 94 p = 0.647\n",
      "u = 100 n = 95 p = 0.6434\n",
      "u = 100 n = 96 p = 0.6351\n",
      "u = 100 n = 97 p = 0.6334\n",
      "u = 100 n = 98 p = 0.6363\n",
      "u = 100 n = 99 p = 0.6314\n",
      "u = 100 n = 100 p = 0.6208\n"
     ]
    }
   ],
   "source": [
    "lamb = 0.579\n",
    "u = 100\n",
    "L = math.ceil(math.log2(u)) + 1\n",
    "\n",
    "def do_round(n):\n",
    "    for j in range(L):\n",
    "        sent = 0\n",
    "        for k in range(n):\n",
    "            p = (1/2) ** j\n",
    "            sent += 1 if random() <= p else 0\n",
    "\n",
    "        if sent == 1:\n",
    "            return True\n",
    "\n",
    "def check(n):\n",
    "    succ = 0\n",
    "    for _ in range(experiments):\n",
    "        succ += 1 if do_round(n) else 0\n",
    "\n",
    "    return (succ / experiments)\n",
    "\n",
    "\n",
    "for n in range(2, u + 1):\n",
    "    p = check(n)\n",
    "    print(\"u =\", u, \"n =\", n, \"p =\", p)"
   ]
  },
  {
   "cell_type": "code",
   "execution_count": null,
   "id": "8d96983a",
   "metadata": {},
   "outputs": [],
   "source": []
  }
 ],
 "metadata": {
  "kernelspec": {
   "display_name": "Python 3 (ipykernel)",
   "language": "python",
   "name": "python3"
  },
  "language_info": {
   "codemirror_mode": {
    "name": "ipython",
    "version": 3
   },
   "file_extension": ".py",
   "mimetype": "text/x-python",
   "name": "python",
   "nbconvert_exporter": "python",
   "pygments_lexer": "ipython3",
   "version": "3.9.10"
  }
 },
 "nbformat": 4,
 "nbformat_minor": 5
}
