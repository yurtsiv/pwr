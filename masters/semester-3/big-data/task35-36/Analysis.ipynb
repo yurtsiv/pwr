{
 "cells": [
  {
   "cell_type": "code",
   "execution_count": 1,
   "id": "0319d13d",
   "metadata": {},
   "outputs": [],
   "source": [
    "def jaccard(set1, set2):\n",
    "    nominator = float(len(set1.intersection(set2)))\n",
    "    denominator = float(len(set1.union(set2)))\n",
    "    return nominator / denominator"
   ]
  },
  {
   "cell_type": "code",
   "execution_count": 2,
   "id": "42a55b0a",
   "metadata": {},
   "outputs": [],
   "source": [
    "from string import punctuation\n",
    "from nltk.tokenize import word_tokenize\n",
    "from nltk.corpus import stopwords\n",
    "from nltk.stem import PorterStemmer\n",
    "\n",
    "english_stopwords = set(stopwords.words('english'))\n",
    "\n",
    "ignored_tokens = set.union(\n",
    "    english_stopwords,\n",
    "    punctuation,\n",
    "    {\"''\", \"'re\", \"...\", \"....\", \"'m\", \"'ve\", \"``\",\n",
    "        \"--\", \"'s\", \"'d\", \"n't\", \"'ll\", \"the\"}\n",
    ")\n",
    "\n",
    "\n",
    "def get_words(text):\n",
    "    stemmer = PorterStemmer()\n",
    "    words = []\n",
    "    for token in word_tokenize(text):\n",
    "        stem = stemmer.stem(token.lower())\n",
    "        if not stem in ignored_tokens and len(stem) > 2:\n",
    "            words.append(stem)\n",
    "\n",
    "    return words\n",
    "\n",
    "\n",
    "def get_n_grams(n, text):\n",
    "    words = get_words(text)\n",
    "    text = ' '.join(words)\n",
    "    return set(text[i:i+n] for i in range(len(text) - n + 1))\n",
    "\n",
    "def read_docs():\n",
    "    docs = []\n",
    "    for file in os.listdir(\"data\"):\n",
    "        with open(f\"data/{file}\") as f:\n",
    "            docs.append((file, f.read()))\n",
    "\n",
    "    return docs"
   ]
  },
  {
   "cell_type": "code",
   "execution_count": 30,
   "id": "b3fde4a3",
   "metadata": {},
   "outputs": [],
   "source": [
    "import mmh3\n",
    "import numpy as np\n",
    "\n",
    "class MinHash:\n",
    "    def __init__(self, k):\n",
    "        self.k = k\n",
    "        self.elems = [float('inf')] * k\n",
    "\n",
    "    def add(self, elem):\n",
    "        for i in range(self.k):\n",
    "            h = mmh3.hash(elem, i, signed=False)\n",
    "            self.elems[i] = min(self.elems[i], h)\n",
    "\n",
    "    def from_set(k, elems):\n",
    "        min_hash = MinHash(k)\n",
    "        for elem in elems:\n",
    "            min_hash.add(elem)\n",
    "        return min_hash\n",
    "\n",
    "    def jaccard(self, other):\n",
    "        return np.sum(np.array(self.elems) == np.array(other.elems)) / self.k"
   ]
  },
  {
   "cell_type": "code",
   "execution_count": 39,
   "id": "060a45a6",
   "metadata": {
    "scrolled": false
   },
   "outputs": [],
   "source": [
    "import os\n",
    "\n",
    "def n_grams_from_docs(n, docs):\n",
    "    n_grams = {}\n",
    "    for file, doc in docs:\n",
    "        print(f\"Processing {file}..\")\n",
    "        n_grams[file] = get_n_grams(n, doc)\n",
    "\n",
    "    return n_grams\n",
    "\n",
    "def jaccard_cross_check(n_grams):\n",
    "    res = {}\n",
    "    files = list(n_grams.keys())\n",
    "\n",
    "    for i in range(len(files) - 1):\n",
    "        for j in range(i + 1, len(files)):\n",
    "            file1 = files[i]\n",
    "            file2 = files[j]\n",
    "            n_grams_1 = n_grams[file1]\n",
    "            n_grams_2 = n_grams[file2]\n",
    "            exact_sim = round(jaccard(n_grams_1, n_grams_2), 5)\n",
    "            \n",
    "            print(f\"{file1}, {file2}: exact={exact_sim}\")\n",
    "            res[(file1, file2)] = exact_sim\n",
    "\n",
    "    return res\n",
    "\n",
    "def min_hash_cross_check(k, n_grams):\n",
    "    res = {}\n",
    "    files = list(n_grams.keys())\n",
    "\n",
    "    for i in range(len(files) - 1):\n",
    "        for j in range(i + 1, len(files)):\n",
    "            file1 = files[i]\n",
    "            file2 = files[j]\n",
    "            n_grams_1 = n_grams[file1]\n",
    "            n_grams_2 = n_grams[file2]\n",
    "            minhash1 = MinHash.from_set(k, n_grams_1)\n",
    "            minhash2 = MinHash.from_set(k, n_grams_2)\n",
    "            minhash_sim = round(minhash1.jaccard(minhash2), 5)\n",
    "\n",
    "            print(f\"\\n{file1}, {file2}: minhash={minhash_sim}\")\n",
    "            res[(file1, file2)] = minhash_sim\n",
    "\n",
    "    return res"
   ]
  },
  {
   "cell_type": "code",
   "execution_count": 40,
   "id": "ef145c12",
   "metadata": {
    "scrolled": true
   },
   "outputs": [
    {
     "name": "stdout",
     "output_type": "stream",
     "text": [
      "Processing ulyss12.txt..\n",
      "Processing hamlet.txt..\n",
      "Processing romeo_and_juliet.txt..\n",
      "Processing king_lear.txt..\n",
      "Processing tempest.txt..\n",
      "ulyss12.txt, hamlet.txt: exact=0.06233\n",
      "ulyss12.txt, romeo_and_juliet.txt: exact=0.05994\n",
      "ulyss12.txt, king_lear.txt: exact=0.05703\n",
      "ulyss12.txt, tempest.txt: exact=0.04028\n",
      "hamlet.txt, romeo_and_juliet.txt: exact=0.11019\n",
      "hamlet.txt, king_lear.txt: exact=0.11853\n",
      "hamlet.txt, tempest.txt: exact=0.09464\n",
      "romeo_and_juliet.txt, king_lear.txt: exact=0.11289\n",
      "romeo_and_juliet.txt, tempest.txt: exact=0.08973\n",
      "king_lear.txt, tempest.txt: exact=0.09876\n"
     ]
    }
   ],
   "source": [
    "n = 7\n",
    "docs = read_docs()\n",
    "n_grams = n_grams_from_docs(n, docs)\n",
    "jaccard_sims = jaccard_cross_check(n_grams)"
   ]
  },
  {
   "cell_type": "code",
   "execution_count": 41,
   "id": "752ed647",
   "metadata": {
    "scrolled": true
   },
   "outputs": [
    {
     "name": "stdout",
     "output_type": "stream",
     "text": [
      "\n",
      "k=64\n",
      "\n",
      "ulyss12.txt, hamlet.txt: minhash=0.04688\n",
      "\n",
      "ulyss12.txt, romeo_and_juliet.txt: minhash=0.04688\n",
      "\n",
      "ulyss12.txt, king_lear.txt: minhash=0.01562\n",
      "\n",
      "ulyss12.txt, tempest.txt: minhash=0.03125\n",
      "\n",
      "hamlet.txt, romeo_and_juliet.txt: minhash=0.0625\n",
      "\n",
      "hamlet.txt, king_lear.txt: minhash=0.07812\n",
      "\n",
      "hamlet.txt, tempest.txt: minhash=0.0625\n",
      "\n",
      "romeo_and_juliet.txt, king_lear.txt: minhash=0.04688\n",
      "\n",
      "romeo_and_juliet.txt, tempest.txt: minhash=0.04688\n",
      "\n",
      "king_lear.txt, tempest.txt: minhash=0.04688\n",
      "\n",
      "k=128\n",
      "\n",
      "ulyss12.txt, hamlet.txt: minhash=0.07031\n",
      "\n",
      "ulyss12.txt, romeo_and_juliet.txt: minhash=0.05469\n"
     ]
    },
    {
     "ename": "KeyboardInterrupt",
     "evalue": "",
     "output_type": "error",
     "traceback": [
      "\u001b[0;31m---------------------------------------------------------------------------\u001b[0m",
      "\u001b[0;31mKeyboardInterrupt\u001b[0m                         Traceback (most recent call last)",
      "Cell \u001b[0;32mIn [41], line 5\u001b[0m\n\u001b[1;32m      3\u001b[0m \u001b[38;5;28;01mfor\u001b[39;00m k \u001b[38;5;129;01min\u001b[39;00m [\u001b[38;5;241m64\u001b[39m, \u001b[38;5;241m128\u001b[39m, \u001b[38;5;241m256\u001b[39m]:\n\u001b[1;32m      4\u001b[0m     \u001b[38;5;28mprint\u001b[39m(\u001b[38;5;124mf\u001b[39m\u001b[38;5;124m\"\u001b[39m\u001b[38;5;130;01m\\n\u001b[39;00m\u001b[38;5;124mk=\u001b[39m\u001b[38;5;132;01m{\u001b[39;00mk\u001b[38;5;132;01m}\u001b[39;00m\u001b[38;5;124m\"\u001b[39m)\n\u001b[0;32m----> 5\u001b[0m     minhash_sims[k] \u001b[38;5;241m=\u001b[39m min_hash_cross_check(k, n_grams)\n",
      "Cell \u001b[0;32mIn [39], line 38\u001b[0m, in \u001b[0;36mmin_hash_cross_check\u001b[0;34m(k, n_grams)\u001b[0m\n\u001b[1;32m     36\u001b[0m n_grams_1 \u001b[38;5;241m=\u001b[39m n_grams[file1]\n\u001b[1;32m     37\u001b[0m n_grams_2 \u001b[38;5;241m=\u001b[39m n_grams[file2]\n\u001b[0;32m---> 38\u001b[0m minhash1 \u001b[38;5;241m=\u001b[39m \u001b[43mMinHash\u001b[49m\u001b[38;5;241;43m.\u001b[39;49m\u001b[43mfrom_set\u001b[49m\u001b[43m(\u001b[49m\u001b[43mk\u001b[49m\u001b[43m,\u001b[49m\u001b[43m \u001b[49m\u001b[43mn_grams_1\u001b[49m\u001b[43m)\u001b[49m\n\u001b[1;32m     39\u001b[0m minhash2 \u001b[38;5;241m=\u001b[39m MinHash\u001b[38;5;241m.\u001b[39mfrom_set(k, n_grams_2)\n\u001b[1;32m     40\u001b[0m minhash_sim \u001b[38;5;241m=\u001b[39m \u001b[38;5;28mround\u001b[39m(minhash1\u001b[38;5;241m.\u001b[39mjaccard(minhash2), \u001b[38;5;241m5\u001b[39m)\n",
      "Cell \u001b[0;32mIn [30], line 17\u001b[0m, in \u001b[0;36mMinHash.from_set\u001b[0;34m(k, elems)\u001b[0m\n\u001b[1;32m     15\u001b[0m min_hash \u001b[38;5;241m=\u001b[39m MinHash(k)\n\u001b[1;32m     16\u001b[0m \u001b[38;5;28;01mfor\u001b[39;00m elem \u001b[38;5;129;01min\u001b[39;00m elems:\n\u001b[0;32m---> 17\u001b[0m     \u001b[43mmin_hash\u001b[49m\u001b[38;5;241;43m.\u001b[39;49m\u001b[43madd\u001b[49m\u001b[43m(\u001b[49m\u001b[43melem\u001b[49m\u001b[43m)\u001b[49m\n\u001b[1;32m     18\u001b[0m \u001b[38;5;28;01mreturn\u001b[39;00m min_hash\n",
      "Cell \u001b[0;32mIn [30], line 12\u001b[0m, in \u001b[0;36mMinHash.add\u001b[0;34m(self, elem)\u001b[0m\n\u001b[1;32m     10\u001b[0m \u001b[38;5;28;01mfor\u001b[39;00m i \u001b[38;5;129;01min\u001b[39;00m \u001b[38;5;28mrange\u001b[39m(\u001b[38;5;28mself\u001b[39m\u001b[38;5;241m.\u001b[39mk):\n\u001b[1;32m     11\u001b[0m     h \u001b[38;5;241m=\u001b[39m mmh3\u001b[38;5;241m.\u001b[39mhash(elem, i, signed\u001b[38;5;241m=\u001b[39m\u001b[38;5;28;01mFalse\u001b[39;00m)\n\u001b[0;32m---> 12\u001b[0m     \u001b[38;5;28mself\u001b[39m\u001b[38;5;241m.\u001b[39melems[i] \u001b[38;5;241m=\u001b[39m \u001b[38;5;28mmin\u001b[39m(\u001b[38;5;28mself\u001b[39m\u001b[38;5;241m.\u001b[39melems[i], h)\n",
      "\u001b[0;31mKeyboardInterrupt\u001b[0m: "
     ]
    }
   ],
   "source": [
    "minhash_sims = {}\n",
    "\n",
    "for k in [64, 128, 256]:\n",
    "    print(f\"\\nk={k}\")\n",
    "    minhash_sims[k] = min_hash_cross_check(k, n_grams)"
   ]
  },
  {
   "cell_type": "code",
   "execution_count": null,
   "id": "d542b9f6",
   "metadata": {},
   "outputs": [],
   "source": [
    "for pair in jaccard_sims.keys():\n",
    "    print()\n",
    "    print(pair)\n",
    "    print(f\"exact:       {jaccard_sims[pair]}\")\n",
    "    for k in minhash_sims:\n",
    "        print(f\"minhash_{k}:  {minhash_sims[k][pair]}\")"
   ]
  },
  {
   "cell_type": "code",
   "execution_count": 54,
   "id": "3f31323c",
   "metadata": {},
   "outputs": [],
   "source": [
    "from sklearn.feature_extraction.text import CountVectorizer\n",
    "from sklearn.cluster import KMeans\n",
    "\n",
    "def cluster_docs(docs, n_gram, n_clusters):\n",
    "    texts = [x[1] for x in docs]\n",
    "    doc_labels = [x[0] for x in docs]\n",
    "\n",
    "    vectorizer = CountVectorizer(ngram_range=(n_gram, n_gram))\n",
    "    X = vectorizer.fit_transform(texts)\n",
    "    km = KMeans(n_clusters=n_clusters)\n",
    "    km.fit(X)\n",
    "\n",
    "    clusters = {}\n",
    "    for i in range(len(km.labels_)):\n",
    "        cluster = km.labels_[i]\n",
    "        doc_label = doc_labels[i]\n",
    "        if not clusters.get(cluster):\n",
    "            clusters[cluster] = [doc_label]\n",
    "        else:\n",
    "            clusters[cluster].append(doc_label)\n",
    "\n",
    "    return clusters"
   ]
  },
  {
   "cell_type": "code",
   "execution_count": 55,
   "id": "26ed08ad",
   "metadata": {
    "scrolled": true
   },
   "outputs": [
    {
     "data": {
      "text/plain": [
       "{1: ['ulyss12.txt'],\n",
       " 0: ['hamlet.txt', 'romeo_and_juliet.txt', 'king_lear.txt', 'tempest.txt']}"
      ]
     },
     "execution_count": 55,
     "metadata": {},
     "output_type": "execute_result"
    }
   ],
   "source": [
    "cluster_docs(docs, 7, 2)"
   ]
  }
 ],
 "metadata": {
  "kernelspec": {
   "display_name": "Python 3 (ipykernel)",
   "language": "python",
   "name": "python3"
  },
  "language_info": {
   "codemirror_mode": {
    "name": "ipython",
    "version": 3
   },
   "file_extension": ".py",
   "mimetype": "text/x-python",
   "name": "python",
   "nbconvert_exporter": "python",
   "pygments_lexer": "ipython3",
   "version": "3.10.7"
  }
 },
 "nbformat": 4,
 "nbformat_minor": 5
}
