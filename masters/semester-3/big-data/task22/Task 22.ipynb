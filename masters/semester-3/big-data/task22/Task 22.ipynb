{
 "cells": [
  {
   "cell_type": "code",
   "execution_count": 1,
   "id": "b9d2ac2b",
   "metadata": {},
   "outputs": [],
   "source": [
    "import random\n",
    "\n",
    "class R:\n",
    "    def __init__(self, k):\n",
    "        self.i = 0\n",
    "        self.k = k\n",
    "        self.reservoir = [0] * k\n",
    "    \n",
    "    def on_item(self, item):\n",
    "        if self.i < self.k:\n",
    "            self.reservoir[self.i] = item\n",
    "        else:\n",
    "            r = random.randint(0, self.i)\n",
    "            if r < self.k:\n",
    "                self.reservoir[r] = item\n",
    "\n",
    "        self.i += 1"
   ]
  },
  {
   "cell_type": "code",
   "execution_count": 2,
   "id": "da436584",
   "metadata": {},
   "outputs": [],
   "source": [
    "import pandas as pd"
   ]
  },
  {
   "cell_type": "code",
   "execution_count": 23,
   "id": "edfa4279",
   "metadata": {},
   "outputs": [],
   "source": [
    "df = pd.read_csv(\".data/bitcoin_data.csv\")\n",
    "df = df.filter(items=[\"Timestamp\", \"Open\"])\n",
    "df = df.dropna()"
   ]
  },
  {
   "cell_type": "code",
   "execution_count": 29,
   "id": "a8992cc0",
   "metadata": {},
   "outputs": [
    {
     "data": {
      "text/plain": [
       "0          1325317920\n",
       "478        1325346600\n",
       "547        1325350740\n",
       "548        1325350800\n",
       "1224       1325391360\n",
       "              ...    \n",
       "4857372    1617148560\n",
       "4857373    1617148620\n",
       "4857374    1617148680\n",
       "4857375    1617148740\n",
       "4857376    1617148800\n",
       "Name: Timestamp, Length: 3613769, dtype: int64"
      ]
     },
     "execution_count": 29,
     "metadata": {},
     "output_type": "execute_result"
    }
   ],
   "source": [
    "df['Timestamp']"
   ]
  },
  {
   "cell_type": "code",
   "execution_count": null,
   "id": "f4c9a032",
   "metadata": {},
   "outputs": [],
   "source": []
  }
 ],
 "metadata": {
  "kernelspec": {
   "display_name": "Python 3 (ipykernel)",
   "language": "python",
   "name": "python3"
  },
  "language_info": {
   "codemirror_mode": {
    "name": "ipython",
    "version": 3
   },
   "file_extension": ".py",
   "mimetype": "text/x-python",
   "name": "python",
   "nbconvert_exporter": "python",
   "pygments_lexer": "ipython3",
   "version": "3.10.7"
  }
 },
 "nbformat": 4,
 "nbformat_minor": 5
}
